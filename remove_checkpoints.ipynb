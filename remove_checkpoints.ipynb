{
 "cells": [
  {
   "cell_type": "code",
   "execution_count": 3,
   "metadata": {},
   "outputs": [],
   "source": [
    "import os\n",
    "import shutil\n",
    "def rm_ipynb_recursively(path):\n",
    "    try:\n",
    "        li = os.listdir(path)\n",
    "    except:\n",
    "        return 0\n",
    "    \n",
    "    cnt_removed = 0\n",
    "    for child in li:\n",
    "        childpath = os.path.join(path, child)\n",
    "        if child == '.ipynb_checkpoints':\n",
    "            shutil.rmtree(childpath)\n",
    "            cnt_removed += 1\n",
    "            print('removed', childpath)\n",
    "        else:\n",
    "            cnt_removed += rm_ipynb_recursively(childpath)\n",
    "            \n",
    "    return cnt_removed"
   ]
  },
  {
   "cell_type": "code",
   "execution_count": 4,
   "metadata": {},
   "outputs": [
    {
     "name": "stdout",
     "output_type": "stream",
     "text": [
      "removed ./.ipynb_checkpoints\n"
     ]
    },
    {
     "data": {
      "text/plain": [
       "1"
      ]
     },
     "execution_count": 4,
     "metadata": {},
     "output_type": "execute_result"
    }
   ],
   "source": [
    "rm_ipynb_recursively('./')"
   ]
  }
 ],
 "metadata": {
  "kernelspec": {
   "display_name": "Python 3",
   "language": "python",
   "name": "python3"
  },
  "language_info": {
   "codemirror_mode": {
    "name": "ipython",
    "version": 3
   },
   "file_extension": ".py",
   "mimetype": "text/x-python",
   "name": "python",
   "nbconvert_exporter": "python",
   "pygments_lexer": "ipython3",
   "version": "3.7.6"
  }
 },
 "nbformat": 4,
 "nbformat_minor": 4
}
