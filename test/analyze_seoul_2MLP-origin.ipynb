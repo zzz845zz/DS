{
 "cells": [
  {
   "cell_type": "code",
   "execution_count": 1,
   "metadata": {},
   "outputs": [],
   "source": [
    "import pandas as pd\n",
    "import numpy as np\n",
    "import matplotlib.pyplot as plt\n",
    "import os\n",
    "import warnings\n",
    "warnings.filterwarnings(action='ignore')\n",
    "\n",
    "from utils import preprocessing as my_prep\n",
    "from utils import regression as my_reg\n",
    "from utils import evaluate as my_eval"
   ]
  },
  {
   "cell_type": "markdown",
   "metadata": {},
   "source": [
    "# Data load"
   ]
  },
  {
   "cell_type": "code",
   "execution_count": 2,
   "metadata": {},
   "outputs": [
    {
     "data": {
      "text/plain": [
       "(173745, 30)"
      ]
     },
     "execution_count": 2,
     "metadata": {},
     "output_type": "execute_result"
    }
   ],
   "source": [
    "data_new = pd.read_csv(\"./data/seoul_preprocessed2_y_nextquarter.csv\")\n",
    "data_new.shape"
   ]
  },
  {
   "cell_type": "code",
   "execution_count": 3,
   "metadata": {},
   "outputs": [
    {
     "data": {
      "text/html": [
       "<div>\n",
       "<style scoped>\n",
       "    .dataframe tbody tr th:only-of-type {\n",
       "        vertical-align: middle;\n",
       "    }\n",
       "\n",
       "    .dataframe tbody tr th {\n",
       "        vertical-align: top;\n",
       "    }\n",
       "\n",
       "    .dataframe thead th {\n",
       "        text-align: right;\n",
       "    }\n",
       "</style>\n",
       "<table border=\"1\" class=\"dataframe\">\n",
       "  <thead>\n",
       "    <tr style=\"text-align: right;\">\n",
       "      <th></th>\n",
       "      <th>Unnamed: 0</th>\n",
       "      <th>Unnamed: 0.1</th>\n",
       "      <th>기준_년_코드</th>\n",
       "      <th>기준_분기_코드</th>\n",
       "      <th>총_유동인구_수</th>\n",
       "      <th>남성_유동인구_수</th>\n",
       "      <th>여성_유동인구_수</th>\n",
       "      <th>연령대_10_유동인구_수</th>\n",
       "      <th>연령대_20_유동인구_수</th>\n",
       "      <th>연령대_30_유동인구_수</th>\n",
       "      <th>...</th>\n",
       "      <th>남성연령대_40_유동인_수</th>\n",
       "      <th>남성연령대_50_유동인_수</th>\n",
       "      <th>남성연령대_60_유동인_수</th>\n",
       "      <th>여성연령대_10_유동인_수</th>\n",
       "      <th>여성연령대_20_유동인_수</th>\n",
       "      <th>여성연령대_30_유동인_수</th>\n",
       "      <th>여성연령대_40_유동인_수</th>\n",
       "      <th>여성연령대_50_유동인_수</th>\n",
       "      <th>여성연령대_60_유동인_수</th>\n",
       "      <th>다음분기_매출_금액</th>\n",
       "    </tr>\n",
       "  </thead>\n",
       "  <tbody>\n",
       "    <tr>\n",
       "      <th>count</th>\n",
       "      <td>173745.000000</td>\n",
       "      <td>173745.000000</td>\n",
       "      <td>173745.000000</td>\n",
       "      <td>173745.000000</td>\n",
       "      <td>1.737450e+05</td>\n",
       "      <td>1.737450e+05</td>\n",
       "      <td>1.737450e+05</td>\n",
       "      <td>173745.000000</td>\n",
       "      <td>1.737450e+05</td>\n",
       "      <td>1.737450e+05</td>\n",
       "      <td>...</td>\n",
       "      <td>173745.000000</td>\n",
       "      <td>173745.000000</td>\n",
       "      <td>173745.000000</td>\n",
       "      <td>173745.000000</td>\n",
       "      <td>1.737450e+05</td>\n",
       "      <td>173745.000000</td>\n",
       "      <td>173745.000000</td>\n",
       "      <td>173745.000000</td>\n",
       "      <td>173745.000000</td>\n",
       "      <td>1.737450e+05</td>\n",
       "    </tr>\n",
       "    <tr>\n",
       "      <th>mean</th>\n",
       "      <td>86872.000000</td>\n",
       "      <td>19029.921373</td>\n",
       "      <td>2017.909091</td>\n",
       "      <td>2.363636</td>\n",
       "      <td>4.601520e+05</td>\n",
       "      <td>2.277786e+05</td>\n",
       "      <td>2.323735e+05</td>\n",
       "      <td>40870.511733</td>\n",
       "      <td>1.181120e+05</td>\n",
       "      <td>9.163808e+04</td>\n",
       "      <td>...</td>\n",
       "      <td>39896.386774</td>\n",
       "      <td>31446.335647</td>\n",
       "      <td>32657.838384</td>\n",
       "      <td>20829.916297</td>\n",
       "      <td>6.375937e+04</td>\n",
       "      <td>42251.287231</td>\n",
       "      <td>33601.119802</td>\n",
       "      <td>32838.364488</td>\n",
       "      <td>39102.370376</td>\n",
       "      <td>6.035148e+08</td>\n",
       "    </tr>\n",
       "    <tr>\n",
       "      <th>std</th>\n",
       "      <td>50156.005598</td>\n",
       "      <td>11655.662245</td>\n",
       "      <td>0.792529</td>\n",
       "      <td>1.067943</td>\n",
       "      <td>6.351088e+05</td>\n",
       "      <td>3.098025e+05</td>\n",
       "      <td>3.280275e+05</td>\n",
       "      <td>64907.594876</td>\n",
       "      <td>2.503013e+05</td>\n",
       "      <td>1.342701e+05</td>\n",
       "      <td>...</td>\n",
       "      <td>53774.795283</td>\n",
       "      <td>37684.239137</td>\n",
       "      <td>42158.941155</td>\n",
       "      <td>35385.518060</td>\n",
       "      <td>1.407040e+05</td>\n",
       "      <td>61195.496546</td>\n",
       "      <td>41491.627558</td>\n",
       "      <td>37989.386280</td>\n",
       "      <td>53250.911260</td>\n",
       "      <td>1.842897e+09</td>\n",
       "    </tr>\n",
       "    <tr>\n",
       "      <th>min</th>\n",
       "      <td>0.000000</td>\n",
       "      <td>4.000000</td>\n",
       "      <td>2017.000000</td>\n",
       "      <td>1.000000</td>\n",
       "      <td>5.900000e+01</td>\n",
       "      <td>0.000000e+00</td>\n",
       "      <td>2.000000e+01</td>\n",
       "      <td>0.000000</td>\n",
       "      <td>0.000000e+00</td>\n",
       "      <td>0.000000e+00</td>\n",
       "      <td>...</td>\n",
       "      <td>0.000000</td>\n",
       "      <td>0.000000</td>\n",
       "      <td>0.000000</td>\n",
       "      <td>0.000000</td>\n",
       "      <td>0.000000e+00</td>\n",
       "      <td>0.000000</td>\n",
       "      <td>0.000000</td>\n",
       "      <td>0.000000</td>\n",
       "      <td>0.000000</td>\n",
       "      <td>2.569000e+03</td>\n",
       "    </tr>\n",
       "    <tr>\n",
       "      <th>25%</th>\n",
       "      <td>43436.000000</td>\n",
       "      <td>9111.000000</td>\n",
       "      <td>2017.000000</td>\n",
       "      <td>1.000000</td>\n",
       "      <td>1.398620e+05</td>\n",
       "      <td>7.155100e+04</td>\n",
       "      <td>6.733100e+04</td>\n",
       "      <td>6580.000000</td>\n",
       "      <td>2.976100e+04</td>\n",
       "      <td>2.854600e+04</td>\n",
       "      <td>...</td>\n",
       "      <td>13171.000000</td>\n",
       "      <td>11050.000000</td>\n",
       "      <td>8972.000000</td>\n",
       "      <td>3163.000000</td>\n",
       "      <td>1.513900e+04</td>\n",
       "      <td>12895.000000</td>\n",
       "      <td>11068.000000</td>\n",
       "      <td>11287.000000</td>\n",
       "      <td>8880.000000</td>\n",
       "      <td>5.279846e+07</td>\n",
       "    </tr>\n",
       "    <tr>\n",
       "      <th>50%</th>\n",
       "      <td>86872.000000</td>\n",
       "      <td>18346.000000</td>\n",
       "      <td>2018.000000</td>\n",
       "      <td>2.000000</td>\n",
       "      <td>2.738870e+05</td>\n",
       "      <td>1.393200e+05</td>\n",
       "      <td>1.335630e+05</td>\n",
       "      <td>16674.000000</td>\n",
       "      <td>5.796900e+04</td>\n",
       "      <td>5.461700e+04</td>\n",
       "      <td>...</td>\n",
       "      <td>24652.000000</td>\n",
       "      <td>20905.000000</td>\n",
       "      <td>17906.000000</td>\n",
       "      <td>8234.000000</td>\n",
       "      <td>3.013700e+04</td>\n",
       "      <td>24958.000000</td>\n",
       "      <td>21214.000000</td>\n",
       "      <td>21698.000000</td>\n",
       "      <td>17892.000000</td>\n",
       "      <td>1.752682e+08</td>\n",
       "    </tr>\n",
       "    <tr>\n",
       "      <th>75%</th>\n",
       "      <td>130308.000000</td>\n",
       "      <td>28252.000000</td>\n",
       "      <td>2019.000000</td>\n",
       "      <td>3.000000</td>\n",
       "      <td>5.504420e+05</td>\n",
       "      <td>2.698680e+05</td>\n",
       "      <td>2.752790e+05</td>\n",
       "      <td>49232.000000</td>\n",
       "      <td>1.150120e+05</td>\n",
       "      <td>1.025780e+05</td>\n",
       "      <td>...</td>\n",
       "      <td>46592.000000</td>\n",
       "      <td>38676.000000</td>\n",
       "      <td>40754.000000</td>\n",
       "      <td>24352.000000</td>\n",
       "      <td>6.126800e+04</td>\n",
       "      <td>48429.000000</td>\n",
       "      <td>41232.000000</td>\n",
       "      <td>40427.000000</td>\n",
       "      <td>45648.000000</td>\n",
       "      <td>5.290441e+08</td>\n",
       "    </tr>\n",
       "    <tr>\n",
       "      <th>max</th>\n",
       "      <td>173744.000000</td>\n",
       "      <td>48530.000000</td>\n",
       "      <td>2019.000000</td>\n",
       "      <td>4.000000</td>\n",
       "      <td>7.690300e+06</td>\n",
       "      <td>3.809289e+06</td>\n",
       "      <td>4.058533e+06</td>\n",
       "      <td>942860.000000</td>\n",
       "      <td>4.260889e+06</td>\n",
       "      <td>2.109808e+06</td>\n",
       "      <td>...</td>\n",
       "      <td>898019.000000</td>\n",
       "      <td>508809.000000</td>\n",
       "      <td>672339.000000</td>\n",
       "      <td>575146.000000</td>\n",
       "      <td>2.412765e+06</td>\n",
       "      <td>960188.000000</td>\n",
       "      <td>614458.000000</td>\n",
       "      <td>519316.000000</td>\n",
       "      <td>622325.000000</td>\n",
       "      <td>7.651527e+10</td>\n",
       "    </tr>\n",
       "  </tbody>\n",
       "</table>\n",
       "<p>8 rows × 26 columns</p>\n",
       "</div>"
      ],
      "text/plain": [
       "          Unnamed: 0   Unnamed: 0.1        기준_년_코드       기준_분기_코드  \\\n",
       "count  173745.000000  173745.000000  173745.000000  173745.000000   \n",
       "mean    86872.000000   19029.921373    2017.909091       2.363636   \n",
       "std     50156.005598   11655.662245       0.792529       1.067943   \n",
       "min         0.000000       4.000000    2017.000000       1.000000   \n",
       "25%     43436.000000    9111.000000    2017.000000       1.000000   \n",
       "50%     86872.000000   18346.000000    2018.000000       2.000000   \n",
       "75%    130308.000000   28252.000000    2019.000000       3.000000   \n",
       "max    173744.000000   48530.000000    2019.000000       4.000000   \n",
       "\n",
       "           총_유동인구_수     남성_유동인구_수     여성_유동인구_수  연령대_10_유동인구_수  연령대_20_유동인구_수  \\\n",
       "count  1.737450e+05  1.737450e+05  1.737450e+05  173745.000000   1.737450e+05   \n",
       "mean   4.601520e+05  2.277786e+05  2.323735e+05   40870.511733   1.181120e+05   \n",
       "std    6.351088e+05  3.098025e+05  3.280275e+05   64907.594876   2.503013e+05   \n",
       "min    5.900000e+01  0.000000e+00  2.000000e+01       0.000000   0.000000e+00   \n",
       "25%    1.398620e+05  7.155100e+04  6.733100e+04    6580.000000   2.976100e+04   \n",
       "50%    2.738870e+05  1.393200e+05  1.335630e+05   16674.000000   5.796900e+04   \n",
       "75%    5.504420e+05  2.698680e+05  2.752790e+05   49232.000000   1.150120e+05   \n",
       "max    7.690300e+06  3.809289e+06  4.058533e+06  942860.000000   4.260889e+06   \n",
       "\n",
       "       연령대_30_유동인구_수  ...  남성연령대_40_유동인_수  남성연령대_50_유동인_수  남성연령대_60_유동인_수  \\\n",
       "count   1.737450e+05  ...   173745.000000   173745.000000   173745.000000   \n",
       "mean    9.163808e+04  ...    39896.386774    31446.335647    32657.838384   \n",
       "std     1.342701e+05  ...    53774.795283    37684.239137    42158.941155   \n",
       "min     0.000000e+00  ...        0.000000        0.000000        0.000000   \n",
       "25%     2.854600e+04  ...    13171.000000    11050.000000     8972.000000   \n",
       "50%     5.461700e+04  ...    24652.000000    20905.000000    17906.000000   \n",
       "75%     1.025780e+05  ...    46592.000000    38676.000000    40754.000000   \n",
       "max     2.109808e+06  ...   898019.000000   508809.000000   672339.000000   \n",
       "\n",
       "       여성연령대_10_유동인_수  여성연령대_20_유동인_수  여성연령대_30_유동인_수  여성연령대_40_유동인_수  \\\n",
       "count   173745.000000    1.737450e+05   173745.000000   173745.000000   \n",
       "mean     20829.916297    6.375937e+04    42251.287231    33601.119802   \n",
       "std      35385.518060    1.407040e+05    61195.496546    41491.627558   \n",
       "min          0.000000    0.000000e+00        0.000000        0.000000   \n",
       "25%       3163.000000    1.513900e+04    12895.000000    11068.000000   \n",
       "50%       8234.000000    3.013700e+04    24958.000000    21214.000000   \n",
       "75%      24352.000000    6.126800e+04    48429.000000    41232.000000   \n",
       "max     575146.000000    2.412765e+06   960188.000000   614458.000000   \n",
       "\n",
       "       여성연령대_50_유동인_수  여성연령대_60_유동인_수    다음분기_매출_금액  \n",
       "count   173745.000000   173745.000000  1.737450e+05  \n",
       "mean     32838.364488    39102.370376  6.035148e+08  \n",
       "std      37989.386280    53250.911260  1.842897e+09  \n",
       "min          0.000000        0.000000  2.569000e+03  \n",
       "25%      11287.000000     8880.000000  5.279846e+07  \n",
       "50%      21698.000000    17892.000000  1.752682e+08  \n",
       "75%      40427.000000    45648.000000  5.290441e+08  \n",
       "max     519316.000000   622325.000000  7.651527e+10  \n",
       "\n",
       "[8 rows x 26 columns]"
      ]
     },
     "execution_count": 3,
     "metadata": {},
     "output_type": "execute_result"
    }
   ],
   "source": [
    "data_new.describe()"
   ]
  },
  {
   "cell_type": "markdown",
   "metadata": {},
   "source": [
    "### 분기별로 분할"
   ]
  },
  {
   "cell_type": "code",
   "execution_count": 4,
   "metadata": {},
   "outputs": [
    {
     "name": "stdout",
     "output_type": "stream",
     "text": [
      "2017_1 (15795, 30)\n",
      "2017_2 (15795, 30)\n",
      "2017_3 (15795, 30)\n",
      "2017_4 (15795, 30)\n",
      "2018_1 (15795, 30)\n",
      "2018_2 (15795, 30)\n",
      "2018_3 (15795, 30)\n",
      "2018_4 (15795, 30)\n",
      "2019_1 (15795, 30)\n",
      "2019_2 (15795, 30)\n",
      "2019_3 (15795, 30)\n"
     ]
    }
   ],
   "source": [
    "quarters = ['2017_1', '2017_2', '2017_3', '2017_4', '2018_1', '2018_2', '2018_3', '2018_4', '2019_1', '2019_2', '2019_3']\n",
    "datas = {}\n",
    "for q in quarters:\n",
    "    year, quarter = map(int, q.split(\"_\"))\n",
    "    \n",
    "    bool_year = data_new.기준_년_코드==year\n",
    "    bool_quarter = data_new.기준_분기_코드==quarter\n",
    "    datas[q] = data_new[bool_year & bool_quarter] \n",
    "    \n",
    "for key in datas.keys():\n",
    "    print(key, datas[key].shape)"
   ]
  },
  {
   "cell_type": "markdown",
   "metadata": {},
   "source": [
    "# Split train, validate, test"
   ]
  },
  {
   "cell_type": "code",
   "execution_count": 5,
   "metadata": {},
   "outputs": [
    {
     "name": "stdout",
     "output_type": "stream",
     "text": [
      "[train] 2017_1 : (1147, 30), accumulate : (1147, 30)\n",
      "[train] 2017_2 : (1147, 30), accumulate : (2294, 30)\n",
      "[train] 2017_3 : (1147, 30), accumulate : (3441, 30)\n",
      "[train] 2017_4 : (1147, 30), accumulate : (4588, 30)\n",
      "[train] 2018_1 : (1147, 30), accumulate : (5735, 30)\n",
      "[train] 2018_2 : (1147, 30), accumulate : (6882, 30)\n",
      "[train] 2018_3 : (1147, 30), accumulate : (8029, 30)\n",
      "[test] 2018_4 : (1147, 30), accumulate : (1147, 30)\n",
      "[test] 2019_1 : (1147, 30), accumulate : (2294, 30)\n",
      "[test] 2019_2 : (1147, 30), accumulate : (3441, 30)\n",
      "[test] 2019_3 : (1147, 30), accumulate : (4588, 30)\n",
      "(8029, 30) (0, 0) (4588, 30)\n"
     ]
    }
   ],
   "source": [
    "trainfiles = ['2017_1', '2017_2', '2017_3', '2017_4', '2018_1', '2018_2', '2018_3']\n",
    "validatefiles = []\n",
    "testfiles = ['2018_4', '2019_1', '2019_2', '2019_3']  # 2019_1, 2019_2, 2019_3, 2019_4 맞추기\n",
    "\n",
    "train, validate, test = my_prep.split_train_val_test_by_file(datas, trainfiles, validatefiles, testfiles, category='편의점')\n",
    "print(train.shape, validate.shape, test.shape)"
   ]
  },
  {
   "cell_type": "markdown",
   "metadata": {},
   "source": [
    "### split x, y"
   ]
  },
  {
   "cell_type": "code",
   "execution_count": 6,
   "metadata": {},
   "outputs": [
    {
     "name": "stdout",
     "output_type": "stream",
     "text": [
      "['남성연령대_10_유동인_수', '남성연령대_20_유동인_수', '남성연령대_30_유동인_수', '남성연령대_40_유동인_수', '남성연령대_50_유동인_수', '남성연령대_60_유동인_수', '여성연령대_10_유동인_수', '여성연령대_20_유동인_수', '여성연령대_30_유동인_수', '여성연령대_40_유동인_수', '여성연령대_50_유동인_수', '여성연령대_60_유동인_수'] ['다음분기_매출_금액']\n"
     ]
    }
   ],
   "source": [
    "#x_header = [x for x in train.columns if '연령대' in x and x.find('연령대')==0]\n",
    "x_header = [x for x in train.columns if '남성연령대' in x or '여성연령대' in x]\n",
    "y_header = ['다음분기_매출_금액']\n",
    "print(x_header, y_header)"
   ]
  },
  {
   "cell_type": "code",
   "execution_count": 7,
   "metadata": {},
   "outputs": [
    {
     "name": "stdout",
     "output_type": "stream",
     "text": [
      "train (8029, 12) (8029, 1)\n",
      "test (4588, 12) (4588, 1)\n"
     ]
    }
   ],
   "source": [
    "x_train, y_train = my_prep.split_xy(train, x_header, y_header)\n",
    "# x_validate, y_validate = my_prep.split_xy(validate, x_header, y_header)\n",
    "x_test, y_test = my_prep.split_xy(test, x_header, y_header)\n",
    "\n",
    "print('train', x_train.shape, y_train.shape)\n",
    "# print('validate', x_validate, y_validate)\n",
    "print('test', x_test.shape, y_test.shape)"
   ]
  },
  {
   "cell_type": "markdown",
   "metadata": {},
   "source": [
    "### Option(random split)"
   ]
  },
  {
   "cell_type": "code",
   "execution_count": 8,
   "metadata": {},
   "outputs": [
    {
     "name": "stdout",
     "output_type": "stream",
     "text": [
      "train (12617, 12) (12617, 1)\n"
     ]
    }
   ],
   "source": [
    "x_train = np.concatenate((x_train, x_test))\n",
    "y_train = np.concatenate((y_train, y_test))\n",
    "print('train', x_train.shape, y_train.shape)"
   ]
  },
  {
   "cell_type": "code",
   "execution_count": 9,
   "metadata": {},
   "outputs": [
    {
     "name": "stdout",
     "output_type": "stream",
     "text": [
      "train (8831, 12) (8831, 1)\n",
      "test (3786, 12) (3786, 1)\n"
     ]
    }
   ],
   "source": [
    "from sklearn.model_selection import train_test_split\n",
    "x_train, x_test, y_train, y_test = train_test_split(x_train, y_train, test_size=0.3)\n",
    "print('train', x_train.shape, y_train.shape)\n",
    "print('test', x_test.shape, y_test.shape)"
   ]
  },
  {
   "cell_type": "code",
   "execution_count": 10,
   "metadata": {},
   "outputs": [
    {
     "name": "stdout",
     "output_type": "stream",
     "text": [
      "train (8831, 12) (8831, 1)\n",
      "test (3786, 12) (3786, 1)\n"
     ]
    }
   ],
   "source": [
    "from sklearn.preprocessing import MinMaxScaler, StandardScaler\n",
    "scaler = StandardScaler().fit(x_train)\n",
    "x_train_scale = scaler.transform(x_train)\n",
    "x_test_scale = scaler.transform(x_test)\n",
    "\n",
    "scaler_y = StandardScaler().fit(y_train)\n",
    "y_train_scale = scaler_y.transform(y_train)\n",
    "y_test_scale = scaler_y.transform(y_test)\n",
    "\n",
    "print('train', x_train_scale.shape, y_train_scale.shape)\n",
    "print('test', x_test_scale.shape, y_test_scale.shape)"
   ]
  },
  {
   "cell_type": "markdown",
   "metadata": {},
   "source": [
    "### Correlation coefficient"
   ]
  },
  {
   "cell_type": "code",
   "execution_count": 11,
   "metadata": {},
   "outputs": [
    {
     "data": {
      "image/png": "[encoded data removed]",
      "text/plain": [
       "<Figure size 360x360 with 2 Axes>"
      ]
     },
     "metadata": {
      "needs_background": "light"
     },
     "output_type": "display_data"
    }
   ],
   "source": [
    "my_eval.visualize_CorrelCoeff_heatmap(x_train, x_header, figsize=(5, 5))"
   ]
  },
  {
   "cell_type": "markdown",
   "metadata": {},
   "source": [
    "# Training"
   ]
  },
  {
   "cell_type": "code",
   "execution_count": 12,
   "metadata": {},
   "outputs": [],
   "source": [
    "x_train_final, y_train_final = x_train, y_train\n",
    "x_test_final, y_test_final = x_test, y_test"
   ]
  },
  {
   "cell_type": "code",
   "execution_count": 13,
   "metadata": {},
   "outputs": [],
   "source": [
    "model_LR = my_reg.get_model_LinearRegression(x_train_final, y_train_final)\n",
    "model_Elastic = my_reg.get_model_ElasticNet(x_train_final, y_train_final)\n",
    "model_SVR = my_reg.get_model_SVR(x_train_final, y_train_final)\n",
    "\n",
    "# hidden_layers = [512, 256, 4]\n",
    "# model_MLPRegression = my_reg.get_model_MLPRegression(\n",
    "#     x_train_scale, y_train_scale, \n",
    "#     hidden_layers=hidden_layers,\n",
    "#     max_iter=5000,\n",
    "#     alpha=0.0001,\n",
    "#     random_state=42\n",
    "# )"
   ]
  },
  {
   "cell_type": "code",
   "execution_count": 14,
   "metadata": {},
   "outputs": [
    {
     "data": {
      "text/plain": [
       "array([[-7068.15969642,   371.1590387 , 17405.13195128,  6225.27528349,\n",
       "         2204.61782673, -6285.2137972 ,  7041.14628186,   -85.20802869,\n",
       "        -1584.85656177, -3169.43207239,  1568.15959623, -5124.06144422]])"
      ]
     },
     "execution_count": 14,
     "metadata": {},
     "output_type": "execute_result"
    }
   ],
   "source": [
    "model_LR.coef_"
   ]
  },
  {
   "cell_type": "markdown",
   "metadata": {},
   "source": [
    "### Keras (Tensorflow 2.2.0)"
   ]
  },
  {
   "cell_type": "code",
   "execution_count": 15,
   "metadata": {},
   "outputs": [
    {
     "name": "stdout",
     "output_type": "stream",
     "text": [
      "2.2.0\n"
     ]
    }
   ],
   "source": [
    "import tensorflow as tf\n",
    "from tensorflow import keras\n",
    "from tensorflow.keras import layers\n",
    "print(tf.__version__)"
   ]
  },
  {
   "cell_type": "code",
   "execution_count": 16,
   "metadata": {},
   "outputs": [],
   "source": [
    "def build_model(input_shape):\n",
    "    model = keras.Sequential([\n",
    "    layers.Dense(12, activation='relu', input_shape=input_shape),\n",
    "    layers.Dense(6, activation='relu'),\n",
    "    layers.Dense(1)\n",
    "    ])\n",
    "\n",
    "    optimizer = keras.optimizers.Adam(learning_rate=0.00001)\n",
    "\n",
    "    model.compile(loss='mse',\n",
    "                optimizer=optimizer,\n",
    "                metrics=['mae', 'mse'])\n",
    "    return model"
   ]
  },
  {
   "cell_type": "code",
   "execution_count": 17,
   "metadata": {},
   "outputs": [
    {
     "name": "stdout",
     "output_type": "stream",
     "text": [
      "Model: \"sequential\"\n",
      "_________________________________________________________________\n",
      "Layer (type)                 Output Shape              Param #   \n",
      "=================================================================\n",
      "dense (Dense)                (None, 12)                156       \n",
      "_________________________________________________________________\n",
      "dense_1 (Dense)              (None, 6)                 78        \n",
      "_________________________________________________________________\n",
      "dense_2 (Dense)              (None, 1)                 7         \n",
      "=================================================================\n",
      "Total params: 241\n",
      "Trainable params: 241\n",
      "Non-trainable params: 0\n",
      "_________________________________________________________________\n"
     ]
    }
   ],
   "source": [
    "model_MLPRegression = build_model(input_shape=[x_train_final.shape[1]])\n",
    "model_MLPRegression.summary()"
   ]
  },
  {
   "cell_type": "code",
   "execution_count": 18,
   "metadata": {},
   "outputs": [
    {
     "name": "stdout",
     "output_type": "stream",
     "text": [
      "...................................................................................................."
     ]
    }
   ],
   "source": [
    "from tensorflow.keras.callbacks import ReduceLROnPlateau, ModelCheckpoint, EarlyStopping\n",
    "\n",
    "epo = 0\n",
    "val_mse = 0\n",
    "class PrintDot(keras.callbacks.Callback):\n",
    "    def on_epoch_end(self, epoch, logs):\n",
    "        global epo\n",
    "        global val_mse\n",
    "        epo = epoch\n",
    "        val_mse = logs['val_mse']\n",
    "        \n",
    "        if epoch % 50 == 0:\n",
    "            print('.', end='')\n",
    "            #print(logs)\n",
    "        \n",
    "# epoche 끝날때마다 모델 저장\n",
    "# ModelCheck = ModelCheckpoint(os.path.join('./log', 'MLP_origin'+'-{epoch:04d}-{val_mse:.4f}.hdf5'), monitor='val_mse', verbose=0, \n",
    "#                          save_best_only=True, save_weights_only=False, mode='auto', period=1)\n",
    "\n",
    "# metric의 상승이 멈출때마다 learning rate 낮춤\n",
    "ReduceLR = ReduceLROnPlateau(monitor='val_mse', factor=0.2, mode='auto',\n",
    "                          patience=5, min_lr=1e-6, verbose=1)\n",
    "\n",
    "EarlyStop = EarlyStopping(monitor='val_mse', mode='auto', patience=10, restore_best_weights=True)\n",
    "\n",
    "EPOCHS = 5000\n",
    "\n",
    "history = model_MLPRegression.fit(\n",
    "    x_train_final, y_train_final, \n",
    "    batch_size=32,epochs=EPOCHS, verbose=0,\n",
    "    validation_data = (x_test_final, y_test_final),\n",
    "    callbacks=[PrintDot(), ReduceLR, EarlyStop])\n",
    "\n",
    "model_MLPRegression.save('./log/2MLP_origin-epoch:%04d-val_mse:%.4f}.hdf5' %(epo, val_mse))"
   ]
  },
  {
   "cell_type": "code",
   "execution_count": 19,
   "metadata": {},
   "outputs": [
    {
     "data": {
      "text/plain": [
       "<tf.Tensor: shape=(1, 1), dtype=float32, numpy=array([[216.51617]], dtype=float32)>"
      ]
     },
     "execution_count": 19,
     "metadata": {},
     "output_type": "execute_result"
    }
   ],
   "source": [
    "model_MLPRegression(x_test_scale[0, :].reshape(1, 12))"
   ]
  },
  {
   "cell_type": "code",
   "execution_count": 20,
   "metadata": {},
   "outputs": [
    {
     "data": {
      "image/png": "[encoded data removed]",
      "text/plain": [
       "<Figure size 576x864 with 2 Axes>"
      ]
     },
     "metadata": {
      "needs_background": "light"
     },
     "output_type": "display_data"
    }
   ],
   "source": [
    "def plot_history(history):\n",
    "    hist = pd.DataFrame(history.history)\n",
    "    hist['epoch'] = history.epoch\n",
    "\n",
    "    plt.figure(figsize=(8,12))\n",
    "\n",
    "    plt.subplot(2,1,1)\n",
    "    plt.xlabel('Epoch')\n",
    "    plt.ylabel('Mean Abs Error [MPG]')\n",
    "    plt.plot(hist['epoch'], hist['mae'],\n",
    "           label='Train Error')\n",
    "    plt.plot(hist['epoch'], hist['val_mae'],\n",
    "           label = 'Val Error')\n",
    "    plt.ylim([0,np.max(hist['val_mae'])+2])\n",
    "    plt.legend()\n",
    "\n",
    "    plt.subplot(2,1,2)\n",
    "    plt.xlabel('Epoch')\n",
    "    plt.ylabel('Mean Square Error [$MPG^2$]')\n",
    "    plt.plot(hist['epoch'], hist['mse'],\n",
    "           label='Train Error')\n",
    "    plt.plot(hist['epoch'], hist['val_mse'],\n",
    "           label = 'Val Error')\n",
    "    plt.ylim([0,np.max(hist['val_mse'])+2])\n",
    "    plt.legend()\n",
    "    plt.show()\n",
    "\n",
    "plot_history(history)"
   ]
  },
  {
   "cell_type": "markdown",
   "metadata": {},
   "source": [
    "# Evaluate"
   ]
  },
  {
   "cell_type": "markdown",
   "metadata": {},
   "source": [
    "### Linear Regression"
   ]
  },
  {
   "cell_type": "code",
   "execution_count": 21,
   "metadata": {},
   "outputs": [
    {
     "name": "stdout",
     "output_type": "stream",
     "text": [
      "------- evaluate Linear Regression -------\n",
      "RMSE : 1147573231.587553\n",
      "R2 : 0.497543\n"
     ]
    },
    {
     "ename": "MemoryError",
     "evalue": "Unable to allocate 225. GiB for an array with shape (30183109362,) and data type int64",
     "output_type": "error",
     "traceback": [
      "\u001b[0;31m---------------------------------------------------------------------------\u001b[0m",
      "\u001b[0;31mMemoryError\u001b[0m                               Traceback (most recent call last)",
      "\u001b[0;32m<ipython-input-21-1e060abcc555>\u001b[0m in \u001b[0;36m<module>\u001b[0;34m\u001b[0m\n\u001b[0;32m----> 1\u001b[0;31m \u001b[0mmy_eval\u001b[0m\u001b[0;34m.\u001b[0m\u001b[0meval_regression\u001b[0m\u001b[0;34m(\u001b[0m\u001b[0my_test_final\u001b[0m\u001b[0;34m,\u001b[0m \u001b[0mmodel_LR\u001b[0m\u001b[0;34m.\u001b[0m\u001b[0mpredict\u001b[0m\u001b[0;34m(\u001b[0m\u001b[0mx_test_final\u001b[0m\u001b[0;34m)\u001b[0m\u001b[0;34m,\u001b[0m \u001b[0mmodel_name\u001b[0m\u001b[0;34m=\u001b[0m\u001b[0;34m'Linear Regression'\u001b[0m\u001b[0;34m)\u001b[0m\u001b[0;34m\u001b[0m\u001b[0;34m\u001b[0m\u001b[0m\n\u001b[0m",
      "\u001b[0;32m~/test3/seungmin/DS/utils/evaluate.py\u001b[0m in \u001b[0;36meval_regression\u001b[0;34m(value_gt, value_predict, scaler, model_name)\u001b[0m\n\u001b[1;32m     68\u001b[0m     \u001b[0mplt\u001b[0m\u001b[0;34m.\u001b[0m\u001b[0msubplot\u001b[0m\u001b[0;34m(\u001b[0m\u001b[0;36m2\u001b[0m\u001b[0;34m,\u001b[0m \u001b[0;36m1\u001b[0m\u001b[0;34m,\u001b[0m \u001b[0;36m2\u001b[0m\u001b[0;34m)\u001b[0m\u001b[0;34m\u001b[0m\u001b[0;34m\u001b[0m\u001b[0m\n\u001b[1;32m     69\u001b[0m     \u001b[0;32mif\u001b[0m \u001b[0mscaler\u001b[0m\u001b[0;34m:\u001b[0m\u001b[0;34m\u001b[0m\u001b[0;34m\u001b[0m\u001b[0m\n\u001b[0;32m---> 70\u001b[0;31m         \u001b[0mvalue_gt_inverse\u001b[0m \u001b[0;34m=\u001b[0m \u001b[0mscaler\u001b[0m\u001b[0;34m.\u001b[0m\u001b[0minverse_transform\u001b[0m\u001b[0;34m(\u001b[0m\u001b[0mvalue_gt\u001b[0m\u001b[0;34m)\u001b[0m\u001b[0;34m[\u001b[0m\u001b[0;34m:\u001b[0m\u001b[0;34m,\u001b[0m \u001b[0;36m0\u001b[0m\u001b[0;34m]\u001b[0m\u001b[0;34m\u001b[0m\u001b[0;34m\u001b[0m\u001b[0m\n\u001b[0m\u001b[1;32m     71\u001b[0m         \u001b[0mvalue_predict_inverse\u001b[0m \u001b[0;34m=\u001b[0m \u001b[0mscaler\u001b[0m\u001b[0;34m.\u001b[0m\u001b[0minverse_transform\u001b[0m\u001b[0;34m(\u001b[0m\u001b[0mvalue_predict\u001b[0m\u001b[0;34m)\u001b[0m\u001b[0;34m\u001b[0m\u001b[0;34m\u001b[0m\u001b[0m\n\u001b[1;32m     72\u001b[0m         \u001b[0m__get_error\u001b[0m\u001b[0;34m(\u001b[0m\u001b[0mvalue_gt_inverse\u001b[0m\u001b[0;34m,\u001b[0m \u001b[0mvalue_predict_inverse\u001b[0m\u001b[0;34m,\u001b[0m \u001b[0mtitle\u001b[0m\u001b[0;34m=\u001b[0m\u001b[0;34m'%s error'\u001b[0m \u001b[0;34m%\u001b[0m\u001b[0;34m(\u001b[0m\u001b[0mmodel_name\u001b[0m\u001b[0;34m)\u001b[0m\u001b[0;34m)\u001b[0m\u001b[0;34m\u001b[0m\u001b[0;34m\u001b[0m\u001b[0m\n",
      "\u001b[0;32m~/test3/seungmin/DS/utils/evaluate.py\u001b[0m in \u001b[0;36mvisualize_scatter\u001b[0;34m(value_gt, value_predict, title)\u001b[0m\n\u001b[1;32m     53\u001b[0m     \u001b[0mplt\u001b[0m\u001b[0;34m.\u001b[0m\u001b[0mtitle\u001b[0m\u001b[0;34m(\u001b[0m\u001b[0;34m'%s x=gt, y=predict'\u001b[0m \u001b[0;34m%\u001b[0m\u001b[0;34m(\u001b[0m\u001b[0mtitle\u001b[0m\u001b[0;34m)\u001b[0m\u001b[0;34m)\u001b[0m\u001b[0;34m\u001b[0m\u001b[0;34m\u001b[0m\u001b[0m\n\u001b[1;32m     54\u001b[0m \u001b[0;34m\u001b[0m\u001b[0m\n\u001b[0;32m---> 55\u001b[0;31m \u001b[0;34m\u001b[0m\u001b[0m\n\u001b[0m\u001b[1;32m     56\u001b[0m \u001b[0;32mdef\u001b[0m \u001b[0meval_regression\u001b[0m\u001b[0;34m(\u001b[0m\u001b[0mvalue_gt\u001b[0m\u001b[0;34m,\u001b[0m \u001b[0mvalue_predict\u001b[0m\u001b[0;34m,\u001b[0m \u001b[0mscaler\u001b[0m\u001b[0;34m=\u001b[0m\u001b[0;32mNone\u001b[0m\u001b[0;34m,\u001b[0m \u001b[0mmodel_name\u001b[0m\u001b[0;34m=\u001b[0m\u001b[0;32mNone\u001b[0m\u001b[0;34m)\u001b[0m\u001b[0;34m:\u001b[0m\u001b[0;34m\u001b[0m\u001b[0;34m\u001b[0m\u001b[0m\n\u001b[1;32m     57\u001b[0m     \u001b[0mRMSE\u001b[0m \u001b[0;34m=\u001b[0m \u001b[0mget_RMSE\u001b[0m\u001b[0;34m(\u001b[0m\u001b[0mvalue_gt\u001b[0m\u001b[0;34m,\u001b[0m \u001b[0mvalue_predict\u001b[0m\u001b[0;34m)\u001b[0m\u001b[0;34m\u001b[0m\u001b[0;34m\u001b[0m\u001b[0m\n",
      "\u001b[0;31mMemoryError\u001b[0m: Unable to allocate 225. GiB for an array with shape (30183109362,) and data type int64"
     ]
    },
    {
     "data": {
      "image/png": "[encoded data removed]",
      "text/plain": [
       "<Figure size 576x576 with 3 Axes>"
      ]
     },
     "metadata": {
      "needs_background": "light"
     },
     "output_type": "display_data"
    }
   ],
   "source": [
    "my_eval.eval_regression(y_test_final, model_LR.predict(x_test_final), model_name='Linear Regression')"
   ]
  },
  {
   "cell_type": "markdown",
   "metadata": {},
   "source": [
    "### ElasticNet"
   ]
  },
  {
   "cell_type": "code",
   "execution_count": null,
   "metadata": {},
   "outputs": [],
   "source": [
    "my_eval.eval_regression(y_test_final, model_Elastic.predict(x_test_final), model_name='ElasticNet')"
   ]
  },
  {
   "cell_type": "markdown",
   "metadata": {},
   "source": [
    "### SVR"
   ]
  },
  {
   "cell_type": "code",
   "execution_count": null,
   "metadata": {},
   "outputs": [],
   "source": [
    "my_eval.eval_regression(y_test_final, model_SVR.predict(x_test_final), model_name='SVM Regression')"
   ]
  },
  {
   "cell_type": "markdown",
   "metadata": {},
   "source": [
    "# MLP Regressoin"
   ]
  },
  {
   "cell_type": "code",
   "execution_count": null,
   "metadata": {},
   "outputs": [],
   "source": [
    "my_eval.eval_regression(y_test_final, model_MLPRegression.predict(x_test_final), model_name='MLP Regression')"
   ]
  },
  {
   "cell_type": "markdown",
   "metadata": {},
   "source": [
    "# 오차 계산"
   ]
  },
  {
   "cell_type": "code",
   "execution_count": null,
   "metadata": {},
   "outputs": [],
   "source": [
    "def evaluate_error(y_gt, y_pred, title=''):\n",
    "    li_error = []\n",
    "    for i in zip(y_gt, y_pred):\n",
    "        error = (abs(i[0]-i[1])/i[0])\n",
    "        li_error.append(error)\n",
    "\n",
    "    print(sum(li_error), y_pred.shape[0])\n",
    "    print('평균 오차 %.lf%%' %(np.mean(li_error)))\n",
    "    print('최대 오차 %.lf%%' %(np.max(li_error)))\n",
    "    print('최소 오차 %.lf%%' %(np.min(li_error)))\n",
    "\n",
    "    #li_error.sort(reverse=True)\n",
    "    #print('Top 10 오차 %s' %(li_error[:10]))\n",
    "    plt.plot(li_error)\n",
    "    plt.ylim([0, 100])\n",
    "    plt.title(title)"
   ]
  },
  {
   "cell_type": "code",
   "execution_count": null,
   "metadata": {},
   "outputs": [],
   "source": [
    "#### normed\n",
    "y_pred_MLP = model_MLPRegression.predict(x_test_final)\n",
    "\n",
    "#### non-normed\n",
    "#y_pred_MLP = model_MLPRegression.predict(x_test_final)\n",
    "\n",
    "evaluate_error(y_test[:, 0], y_pred_MLP, title='MLP error')"
   ]
  },
  {
   "cell_type": "code",
   "execution_count": null,
   "metadata": {},
   "outputs": [],
   "source": [
    "y_pred_scale_LR = model_LR.predict(x_test_final)\n",
    "y_pred_LR = scaler_y.inverse_transform(y_pred_scale_LR)\n",
    "\n",
    "evaluate_error(y_test[:, 0], y_pred_LR, title=\"LR error\")"
   ]
  },
  {
   "cell_type": "code",
   "execution_count": null,
   "metadata": {},
   "outputs": [],
   "source": [
    "y_pred_scale_Elastic = model_Elastic.predict(x_test_final)\n",
    "y_pred_Elastic = scaler_y.inverse_transform(y_pred_scale_Elastic)\n",
    "\n",
    "evaluate_error(y_test[:, 0], y_pred_Elastic, title='Elastic error')"
   ]
  },
  {
   "cell_type": "markdown",
   "metadata": {},
   "source": [
    "# Conclusion"
   ]
  },
  {
   "cell_type": "markdown",
   "metadata": {},
   "source": [
    "##### 정답 값이 너무 비슷? 몇명만 너무 큼? \n",
    "##### 큰 의미가 없나?"
   ]
  },
  {
   "cell_type": "code",
   "execution_count": null,
   "metadata": {},
   "outputs": [],
   "source": [
    "plt.plot(y_test)"
   ]
  },
  {
   "cell_type": "code",
   "execution_count": null,
   "metadata": {},
   "outputs": [],
   "source": [
    "print('MLP', int(scaler_y.inverse_transform([-0.02651767])))\n",
    "print('LR', int(scaler_y.inverse_transform([-0.06412931])))\n",
    "#print('SVR', int(scaler_y.inverse_transform([-0.02651767])))\n",
    "print('Elastic', int(scaler_y.inverse_transform([4.09963574e-10])))    #\n",
    "print('ground truth', y_test[0, 0])"
   ]
  },
  {
   "cell_type": "markdown",
   "metadata": {},
   "source": [
    "# TODO"
   ]
  },
  {
   "cell_type": "markdown",
   "metadata": {},
   "source": [
    "1) 전처리  \n",
    "- 가중치부여    \n",
    "\n",
    "2) 차원축소  \n",
    " - wrapper, PCA    \n",
    "\n",
    "3) 증분  \n",
    " - 회귀 증분?    \n",
    "\n",
    "4) 모델 \n",
    " - LGBM, MLP monitoring  \n",
    "\n",
    "5) 학습/검증 분할\n",
    " - random\n",
    " - k-fold(train,validate)/test\n",
    " - sequence  \n",
    " \n",
    "6) 분석, 결론\n",
    " - MSE, R2\n",
    " - 오차\n",
    " - 시각화 (지도?)"
   ]
  },
  {
   "cell_type": "markdown",
   "metadata": {},
   "source": [
    "버릴건 버려야"
   ]
  }
 ],
 "metadata": {
  "kernelspec": {
   "display_name": "Python 3",
   "language": "python",
   "name": "python3"
  },
  "language_info": {
   "codemirror_mode": {
    "name": "ipython",
    "version": 3
   },
   "file_extension": ".py",
   "mimetype": "text/x-python",
   "name": "python",
   "nbconvert_exporter": "python",
   "pygments_lexer": "ipython3",
   "version": "3.8.2"
  }
 },
 "nbformat": 4,
 "nbformat_minor": 4
}
