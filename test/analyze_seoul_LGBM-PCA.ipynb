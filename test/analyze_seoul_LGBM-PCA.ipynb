{
 "cells": [
  {
   "cell_type": "code",
   "execution_count": 1,
   "metadata": {},
   "outputs": [],
   "source": [
    "import pandas as pd\n",
    "import numpy as np\n",
    "import matplotlib.pyplot as plt\n",
    "import os\n",
    "import warnings\n",
    "warnings.filterwarnings(action='ignore')\n",
    "\n",
    "from utils import preprocessing as my_prep\n",
    "from utils import regression as my_reg\n",
    "from utils import evaluate as my_eval"
   ]
  },
  {
   "cell_type": "markdown",
   "metadata": {},
   "source": [
    "# Config"
   ]
  },
  {
   "cell_type": "code",
   "execution_count": 2,
   "metadata": {},
   "outputs": [],
   "source": [
    "flag_y_next_quarter = True\n",
    "flag_random_split = True\n",
    "PREDICT_CATEGORY = '편의점'   # None means overall"
   ]
  },
  {
   "cell_type": "markdown",
   "metadata": {},
   "source": [
    "# Data load"
   ]
  },
  {
   "cell_type": "code",
   "execution_count": 3,
   "metadata": {},
   "outputs": [
    {
     "data": {
      "text/plain": [
       "(173745, 30)"
      ]
     },
     "execution_count": 3,
     "metadata": {},
     "output_type": "execute_result"
    }
   ],
   "source": [
    "if flag_y_next_quarter:\n",
    "    data_new = pd.read_csv(\"./data/seoul_preprocessed2_y_nextquarter.csv\")\n",
    "else:\n",
    "    data_new = pd.read_csv(\"./data/seoul_preprocessed.csv\", encoding='euc-kr')\n",
    "# data_new = pd.read_csv(\"./data/seoul_preprocessed2_y_nextquarter.csv\")\n",
    "data_new.shape"
   ]
  },
  {
   "cell_type": "markdown",
   "metadata": {},
   "source": [
    "### 분기별로 분할"
   ]
  },
  {
   "cell_type": "code",
   "execution_count": 4,
   "metadata": {},
   "outputs": [
    {
     "name": "stdout",
     "output_type": "stream",
     "text": [
      "2017_1 (15795, 30)\n",
      "2017_2 (15795, 30)\n",
      "2017_3 (15795, 30)\n",
      "2017_4 (15795, 30)\n",
      "2018_1 (15795, 30)\n",
      "2018_2 (15795, 30)\n",
      "2018_3 (15795, 30)\n",
      "2018_4 (15795, 30)\n",
      "2019_1 (15795, 30)\n",
      "2019_2 (15795, 30)\n",
      "2019_3 (15795, 30)\n"
     ]
    }
   ],
   "source": [
    "quarters = ['2017_1', '2017_2', '2017_3', '2017_4', '2018_1', '2018_2', '2018_3', '2018_4', '2019_1', '2019_2', '2019_3']\n",
    "datas = {}\n",
    "for q in quarters:\n",
    "    year, quarter = map(int, q.split(\"_\"))\n",
    "    \n",
    "    bool_year = data_new.기준_년_코드==year\n",
    "    bool_quarter = data_new.기준_분기_코드==quarter\n",
    "    datas[q] = data_new[bool_year & bool_quarter] \n",
    "    \n",
    "for key in datas.keys():\n",
    "    print(key, datas[key].shape)"
   ]
  },
  {
   "cell_type": "markdown",
   "metadata": {},
   "source": [
    "# Split train, validate, test"
   ]
  },
  {
   "cell_type": "code",
   "execution_count": 5,
   "metadata": {
    "jupyter": {
     "source_hidden": true
    }
   },
   "outputs": [
    {
     "name": "stdout",
     "output_type": "stream",
     "text": [
      "[train] 2017_1 : (1147, 30), accumulate : (1147, 30)\n",
      "[train] 2017_2 : (1147, 30), accumulate : (2294, 30)\n",
      "[train] 2017_3 : (1147, 30), accumulate : (3441, 30)\n",
      "[train] 2017_4 : (1147, 30), accumulate : (4588, 30)\n",
      "[train] 2018_1 : (1147, 30), accumulate : (5735, 30)\n",
      "[train] 2018_2 : (1147, 30), accumulate : (6882, 30)\n",
      "[train] 2018_3 : (1147, 30), accumulate : (8029, 30)\n",
      "[test] 2018_4 : (1147, 30), accumulate : (1147, 30)\n",
      "[test] 2019_1 : (1147, 30), accumulate : (2294, 30)\n",
      "[test] 2019_2 : (1147, 30), accumulate : (3441, 30)\n",
      "[test] 2019_3 : (1147, 30), accumulate : (4588, 30)\n",
      "(8029, 30) (0, 0) (4588, 30)\n"
     ]
    }
   ],
   "source": [
    "trainfiles = ['2017_1', '2017_2', '2017_3', '2017_4', '2018_1', '2018_2', '2018_3']\n",
    "validatefiles = []\n",
    "testfiles = ['2018_4', '2019_1', '2019_2', '2019_3']  # 2019_1, 2019_2, 2019_3, 2019_4 맞추기\n",
    "\n",
    "train, validate, test = my_prep.split_train_val_test_by_file(datas, trainfiles, validatefiles, testfiles, category=PREDICT_CATEGORY)\n",
    "print(train.shape, validate.shape, test.shape)"
   ]
  },
  {
   "cell_type": "markdown",
   "metadata": {},
   "source": [
    "### split x, y"
   ]
  },
  {
   "cell_type": "code",
   "execution_count": 6,
   "metadata": {
    "jupyter": {
     "source_hidden": true
    }
   },
   "outputs": [
    {
     "name": "stdout",
     "output_type": "stream",
     "text": [
      "['남성연령대_10_유동인_수', '남성연령대_20_유동인_수', '남성연령대_30_유동인_수', '남성연령대_40_유동인_수', '남성연령대_50_유동인_수', '남성연령대_60_유동인_수', '여성연령대_10_유동인_수', '여성연령대_20_유동인_수', '여성연령대_30_유동인_수', '여성연령대_40_유동인_수', '여성연령대_50_유동인_수', '여성연령대_60_유동인_수'] ['다음분기_매출_금액']\n"
     ]
    }
   ],
   "source": [
    "#x_header = [x for x in train.columns if '연령대' in x and x.find('연령대')==0]\n",
    "x_header = [x for x in train.columns if '남성연령대' in x or '여성연령대' in x]\n",
    "\n",
    "if flag_y_next_quarter:\n",
    "    y_header = ['다음분기_매출_금액']\n",
    "else:\n",
    "    y_header = ['당월_매출_금액']\n",
    "print(x_header, y_header)"
   ]
  },
  {
   "cell_type": "code",
   "execution_count": 7,
   "metadata": {
    "jupyter": {
     "source_hidden": true
    }
   },
   "outputs": [
    {
     "name": "stdout",
     "output_type": "stream",
     "text": [
      "train (8029, 12) (8029, 1)\n",
      "test (4588, 12) (4588, 1)\n"
     ]
    }
   ],
   "source": [
    "x_train, y_train = my_prep.split_xy(train, x_header, y_header)\n",
    "# x_validate, y_validate = my_prep.split_xy(validate, x_header, y_header)\n",
    "x_test, y_test = my_prep.split_xy(test, x_header, y_header)\n",
    "\n",
    "print('train', x_train.shape, y_train.shape)\n",
    "# print('validate', x_validate, y_validate)\n",
    "print('test', x_test.shape, y_test.shape)"
   ]
  },
  {
   "cell_type": "markdown",
   "metadata": {},
   "source": [
    "### Option(random split)"
   ]
  },
  {
   "cell_type": "code",
   "execution_count": 8,
   "metadata": {},
   "outputs": [
    {
     "name": "stdout",
     "output_type": "stream",
     "text": [
      "train (12617, 12) (12617, 1)\n",
      "train (8831, 12) (8831, 1)\n",
      "test (3786, 12) (3786, 1)\n"
     ]
    }
   ],
   "source": [
    "if flag_random_split:\n",
    "    from sklearn.model_selection import train_test_split\n",
    "    x_train = np.concatenate((x_train, x_test))\n",
    "    y_train = np.concatenate((y_train, y_test))\n",
    "    print('train', x_train.shape, y_train.shape)\n",
    "    \n",
    "    x_train, x_test, y_train, y_test = train_test_split(x_train, y_train, test_size=0.3)\n",
    "    print('train', x_train.shape, y_train.shape)\n",
    "    print('test', x_test.shape, y_test.shape)"
   ]
  },
  {
   "cell_type": "markdown",
   "metadata": {},
   "source": [
    "# Normalize, PCA"
   ]
  },
  {
   "cell_type": "markdown",
   "metadata": {},
   "source": [
    "### Normalize"
   ]
  },
  {
   "cell_type": "code",
   "execution_count": 9,
   "metadata": {},
   "outputs": [
    {
     "name": "stdout",
     "output_type": "stream",
     "text": [
      "train (8831, 12) (8831, 1)\n",
      "test (3786, 12) (3786, 1)\n"
     ]
    }
   ],
   "source": [
    "from sklearn.preprocessing import MinMaxScaler, StandardScaler\n",
    "scaler = StandardScaler().fit(x_train)\n",
    "x_train_scale = scaler.transform(x_train)\n",
    "x_test_scale = scaler.transform(x_test)\n",
    "\n",
    "scaler_y = StandardScaler().fit(y_train)\n",
    "y_train_scale = scaler_y.transform(y_train)\n",
    "y_test_scale = scaler_y.transform(y_test)\n",
    "\n",
    "print('train', x_train_scale.shape, y_train_scale.shape)\n",
    "print('test', x_test_scale.shape, y_test_scale.shape)"
   ]
  },
  {
   "cell_type": "markdown",
   "metadata": {},
   "source": [
    "### PCA"
   ]
  },
  {
   "cell_type": "code",
   "execution_count": 10,
   "metadata": {},
   "outputs": [
    {
     "name": "stdout",
     "output_type": "stream",
     "text": [
      "(8831, 12) (3786, 12)\n"
     ]
    }
   ],
   "source": [
    "from sklearn.decomposition import PCA\n",
    "pca = PCA()\n",
    "pca.fit(x_train_scale)\n",
    "x_train_pca = pca.transform(x_train_scale)\n",
    "x_test_pca = pca.transform(x_test_scale)\n",
    "print(x_train_pca.shape, x_test_pca.shape)"
   ]
  },
  {
   "cell_type": "code",
   "execution_count": 11,
   "metadata": {
    "jupyter": {
     "source_hidden": true
    }
   },
   "outputs": [
    {
     "data": {
      "text/plain": [
       "array([0.78, 0.11, 0.07, 0.01, 0.01, 0.01, 0.  , 0.  , 0.  , 0.  , 0.  ,\n",
       "       0.  ])"
      ]
     },
     "execution_count": 11,
     "metadata": {},
     "output_type": "execute_result"
    }
   ],
   "source": [
    "pca.explained_variance_ratio_.round(2)"
   ]
  },
  {
   "cell_type": "code",
   "execution_count": 12,
   "metadata": {
    "jupyter": {
     "source_hidden": true
    }
   },
   "outputs": [
    {
     "name": "stdout",
     "output_type": "stream",
     "text": [
      "(8831, 2) (3786, 2)\n"
     ]
    }
   ],
   "source": [
    "top_n = 2\n",
    "x_train_pca_selected = x_train_pca[:, :top_n]\n",
    "x_test_pca_selected = x_test_pca[:, :top_n]\n",
    "print(x_train_pca_selected.shape, x_test_pca_selected.shape)"
   ]
  },
  {
   "cell_type": "markdown",
   "metadata": {},
   "source": [
    "# Training"
   ]
  },
  {
   "cell_type": "code",
   "execution_count": 13,
   "metadata": {},
   "outputs": [],
   "source": [
    "x_train_final, y_train_final = x_train_pca_selected, y_train_scale\n",
    "x_test_final, y_test_final = x_test_pca_selected, y_test_scale"
   ]
  },
  {
   "cell_type": "code",
   "execution_count": 14,
   "metadata": {},
   "outputs": [
    {
     "data": {
      "text/plain": [
       "LGBMRegressor()"
      ]
     },
     "execution_count": 14,
     "metadata": {},
     "output_type": "execute_result"
    }
   ],
   "source": [
    "import lightgbm as lgb\n",
    "model_LGBM = lgb.LGBMRegressor()\n",
    "model_LGBM.fit(x_train_final, y_train_final)"
   ]
  },
  {
   "cell_type": "markdown",
   "metadata": {},
   "source": [
    "# Evaluate"
   ]
  },
  {
   "cell_type": "markdown",
   "metadata": {},
   "source": [
    "### LGBM"
   ]
  },
  {
   "cell_type": "code",
   "execution_count": 15,
   "metadata": {},
   "outputs": [
    {
     "name": "stdout",
     "output_type": "stream",
     "text": [
      "------- evaluate LGBM Regression -------\n",
      "RMSE : 0.687080\n",
      "R2 : 0.551451\n",
      "4762.587684540198 3786\n",
      "평균 오차 1%\n",
      "최대 오차 484%\n",
      "최소 오차 0%\n",
      "----------------------------\n"
     ]
    },
    {
     "data": {
      "image/png": "[encoded data removed]",
      "text/plain": [
       "<Figure size 576x576 with 2 Axes>"
      ]
     },
     "metadata": {
      "needs_background": "light"
     },
     "output_type": "display_data"
    }
   ],
   "source": [
    "my_eval.eval_regression(y_test_final, model_LGBM.predict(x_test_final), scaler=scaler_y, model_name='LGBM Regression')"
   ]
  },
  {
   "cell_type": "markdown",
   "metadata": {},
   "source": [
    "# Conclusion"
   ]
  },
  {
   "cell_type": "markdown",
   "metadata": {},
   "source": [
    "##### 정답 값이 너무 비슷? 몇명만 너무 큼? \n",
    "##### 큰 의미가 없나?"
   ]
  },
  {
   "cell_type": "code",
   "execution_count": 16,
   "metadata": {},
   "outputs": [
    {
     "data": {
      "text/plain": [
       "[<matplotlib.lines.Line2D at 0x7f9b4ba98460>]"
      ]
     },
     "execution_count": 16,
     "metadata": {},
     "output_type": "execute_result"
    },
    {
     "data": {
      "image/png": "[encoded data removed]",
      "text/plain": [
       "<Figure size 432x288 with 1 Axes>"
      ]
     },
     "metadata": {
      "needs_background": "light"
     },
     "output_type": "display_data"
    }
   ],
   "source": [
    "plt.plot(y_test)"
   ]
  },
  {
   "cell_type": "code",
   "execution_count": 17,
   "metadata": {},
   "outputs": [
    {
     "name": "stdout",
     "output_type": "stream",
     "text": [
      "MLP 942768924\n",
      "LR 887328009\n",
      "Elastic 981856928\n",
      "ground truth 1076093755\n"
     ]
    }
   ],
   "source": [
    "print('MLP', int(scaler_y.inverse_transform([-0.02651767])))\n",
    "print('LR', int(scaler_y.inverse_transform([-0.06412931])))\n",
    "#print('SVR', int(scaler_y.inverse_transform([-0.02651767])))\n",
    "print('Elastic', int(scaler_y.inverse_transform([4.09963574e-10])))    #\n",
    "print('ground truth', y_test[0, 0])"
   ]
  },
  {
   "cell_type": "markdown",
   "metadata": {},
   "source": [
    "# TODO"
   ]
  },
  {
   "cell_type": "markdown",
   "metadata": {},
   "source": [
    "1) 전처리  \n",
    "- 가중치부여    \n",
    "\n",
    "2) 차원축소  \n",
    " - wrapper, PCA    \n",
    "\n",
    "3) 증분  \n",
    " - 회귀 증분?    \n",
    "\n",
    "4) 모델 \n",
    " - LGBM, MLP monitoring  \n",
    "\n",
    "5) 학습/검증 분할\n",
    " - random\n",
    " - k-fold(train,validate)/test\n",
    " - sequence  \n",
    " \n",
    "6) 분석, 결론\n",
    " - MSE, R2\n",
    " - 오차\n",
    " - 시각화 (지도?)"
   ]
  },
  {
   "cell_type": "markdown",
   "metadata": {},
   "source": [
    "버릴건 버려야"
   ]
  }
 ],
 "metadata": {
  "kernelspec": {
   "display_name": "Python 3",
   "language": "python",
   "name": "python3"
  },
  "language_info": {
   "codemirror_mode": {
    "name": "ipython",
    "version": 3
   },
   "file_extension": ".py",
   "mimetype": "text/x-python",
   "name": "python",
   "nbconvert_exporter": "python",
   "pygments_lexer": "ipython3",
   "version": "3.8.2"
  }
 },
 "nbformat": 4,
 "nbformat_minor": 4
}
