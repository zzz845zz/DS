{
 "cells": [
  {
   "cell_type": "code",
   "execution_count": 1,
   "metadata": {},
   "outputs": [],
   "source": [
    "import pandas as pd\n",
    "import numpy as np\n",
    "import matplotlib.pyplot as plt\n",
    "import os\n",
    "import warnings\n",
    "warnings.filterwarnings(action='ignore')\n",
    "\n",
    "from utils import preprocessing as my_prep\n",
    "from utils import regression as my_reg\n",
    "from utils import evaluate as my_eval"
   ]
  },
  {
   "cell_type": "markdown",
   "metadata": {},
   "source": [
    "# Data load"
   ]
  },
  {
   "cell_type": "code",
   "execution_count": 2,
   "metadata": {},
   "outputs": [],
   "source": [
    "path_data = './data/seoul/prep2'"
   ]
  },
  {
   "cell_type": "code",
   "execution_count": 3,
   "metadata": {},
   "outputs": [],
   "source": [
    "datas = {}\n",
    "for filename in os.listdir(path_data):\n",
    "    if filename.split('.')[-1] != 'csv':\n",
    "        continue\n",
    "    datas[filename[:6]] = pd.read_csv(os.path.join(path_data, filename), encoding='utf-8', engine='python')"
   ]
  },
  {
   "cell_type": "code",
   "execution_count": 4,
   "metadata": {},
   "outputs": [
    {
     "data": {
      "text/plain": [
       "['2017_1',\n",
       " '2017_2',\n",
       " '2017_3',\n",
       " '2017_4',\n",
       " '2018_1',\n",
       " '2018_2',\n",
       " '2018_3',\n",
       " '2018_4',\n",
       " '2019_1',\n",
       " '2019_2',\n",
       " '2019_3',\n",
       " '2019_4']"
      ]
     },
     "execution_count": 4,
     "metadata": {},
     "output_type": "execute_result"
    }
   ],
   "source": [
    "list(datas.keys())"
   ]
  },
  {
   "cell_type": "code",
   "execution_count": 5,
   "metadata": {},
   "outputs": [
    {
     "data": {
      "text/html": [
       "<div>\n",
       "<style scoped>\n",
       "    .dataframe tbody tr th:only-of-type {\n",
       "        vertical-align: middle;\n",
       "    }\n",
       "\n",
       "    .dataframe tbody tr th {\n",
       "        vertical-align: top;\n",
       "    }\n",
       "\n",
       "    .dataframe thead th {\n",
       "        text-align: right;\n",
       "    }\n",
       "</style>\n",
       "<table border=\"1\" class=\"dataframe\">\n",
       "  <thead>\n",
       "    <tr style=\"text-align: right;\">\n",
       "      <th></th>\n",
       "      <th>기준 년코드</th>\n",
       "      <th>기준_분기_코드</th>\n",
       "      <th>총_유동인구_수</th>\n",
       "      <th>남성_유동인구_수</th>\n",
       "      <th>여성_유동인구_수</th>\n",
       "      <th>연령대_10_유동인구_수</th>\n",
       "      <th>연령대_20_유동인구_수</th>\n",
       "      <th>연령대_30_유동인구_수</th>\n",
       "      <th>연령대_40_유동인구_수</th>\n",
       "      <th>연령대_50_유동인구_수</th>\n",
       "      <th>...</th>\n",
       "      <th>남성연령대_50_유동인_수</th>\n",
       "      <th>남성연령대_60_유동인_수</th>\n",
       "      <th>여성연령대_10_유동인_수</th>\n",
       "      <th>여성연령대_20_유동인_수</th>\n",
       "      <th>여성연령대_30_유동인_수</th>\n",
       "      <th>여성연령대_40_유동인_수</th>\n",
       "      <th>여성연령대_50_유동인_수</th>\n",
       "      <th>여성연령대_60_유동인_수</th>\n",
       "      <th>서비스_업종_코드_명</th>\n",
       "      <th>당월_매출_금액</th>\n",
       "    </tr>\n",
       "  </thead>\n",
       "  <tbody>\n",
       "    <tr>\n",
       "      <th>3032</th>\n",
       "      <td>2019</td>\n",
       "      <td>4</td>\n",
       "      <td>726848</td>\n",
       "      <td>336319</td>\n",
       "      <td>390530</td>\n",
       "      <td>106455</td>\n",
       "      <td>113538</td>\n",
       "      <td>91687</td>\n",
       "      <td>109945</td>\n",
       "      <td>112499</td>\n",
       "      <td>...</td>\n",
       "      <td>51039</td>\n",
       "      <td>76503</td>\n",
       "      <td>55082</td>\n",
       "      <td>59992</td>\n",
       "      <td>45889</td>\n",
       "      <td>51889</td>\n",
       "      <td>61456</td>\n",
       "      <td>116224</td>\n",
       "      <td>PC방</td>\n",
       "      <td>81280338</td>\n",
       "    </tr>\n",
       "    <tr>\n",
       "      <th>4921</th>\n",
       "      <td>2019</td>\n",
       "      <td>4</td>\n",
       "      <td>667690</td>\n",
       "      <td>297489</td>\n",
       "      <td>370201</td>\n",
       "      <td>86208</td>\n",
       "      <td>116608</td>\n",
       "      <td>93454</td>\n",
       "      <td>98626</td>\n",
       "      <td>104462</td>\n",
       "      <td>...</td>\n",
       "      <td>43829</td>\n",
       "      <td>66973</td>\n",
       "      <td>44839</td>\n",
       "      <td>64032</td>\n",
       "      <td>47767</td>\n",
       "      <td>51579</td>\n",
       "      <td>60637</td>\n",
       "      <td>101363</td>\n",
       "      <td>PC방</td>\n",
       "      <td>124582146</td>\n",
       "    </tr>\n",
       "    <tr>\n",
       "      <th>26956</th>\n",
       "      <td>2019</td>\n",
       "      <td>4</td>\n",
       "      <td>1017107</td>\n",
       "      <td>460155</td>\n",
       "      <td>556952</td>\n",
       "      <td>151358</td>\n",
       "      <td>125578</td>\n",
       "      <td>116187</td>\n",
       "      <td>138295</td>\n",
       "      <td>156043</td>\n",
       "      <td>...</td>\n",
       "      <td>71244</td>\n",
       "      <td>123183</td>\n",
       "      <td>72859</td>\n",
       "      <td>64259</td>\n",
       "      <td>55550</td>\n",
       "      <td>73018</td>\n",
       "      <td>84806</td>\n",
       "      <td>206461</td>\n",
       "      <td>PC방</td>\n",
       "      <td>78471993</td>\n",
       "    </tr>\n",
       "  </tbody>\n",
       "</table>\n",
       "<p>3 rows × 27 columns</p>\n",
       "</div>"
      ],
      "text/plain": [
       "       기준 년코드  기준_분기_코드  총_유동인구_수  남성_유동인구_수  여성_유동인구_수  연령대_10_유동인구_수  \\\n",
       "3032     2019         4    726848     336319     390530         106455   \n",
       "4921     2019         4    667690     297489     370201          86208   \n",
       "26956    2019         4   1017107     460155     556952         151358   \n",
       "\n",
       "       연령대_20_유동인구_수  연령대_30_유동인구_수  연령대_40_유동인구_수  연령대_50_유동인구_수  ...  \\\n",
       "3032          113538          91687         109945         112499  ...   \n",
       "4921          116608          93454          98626         104462  ...   \n",
       "26956         125578         116187         138295         156043  ...   \n",
       "\n",
       "       남성연령대_50_유동인_수 남성연령대_60_유동인_수 여성연령대_10_유동인_수  여성연령대_20_유동인_수  \\\n",
       "3032            51039          76503          55082           59992   \n",
       "4921            43829          66973          44839           64032   \n",
       "26956           71244         123183          72859           64259   \n",
       "\n",
       "       여성연령대_30_유동인_수  여성연령대_40_유동인_수  여성연령대_50_유동인_수  여성연령대_60_유동인_수  \\\n",
       "3032            45889           51889           61456          116224   \n",
       "4921            47767           51579           60637          101363   \n",
       "26956           55550           73018           84806          206461   \n",
       "\n",
       "       서비스_업종_코드_명   당월_매출_금액  \n",
       "3032           PC방   81280338  \n",
       "4921           PC방  124582146  \n",
       "26956          PC방   78471993  \n",
       "\n",
       "[3 rows x 27 columns]"
      ]
     },
     "execution_count": 5,
     "metadata": {},
     "output_type": "execute_result"
    }
   ],
   "source": [
    "tmp = datas['2019_4']\n",
    "tmp = tmp[tmp['행정동_코드']=='송중동']\n",
    "tmp[tmp['서비스_업종_코드_명']=='PC방']"
   ]
  },
  {
   "cell_type": "markdown",
   "metadata": {},
   "source": [
    "# Split train, validate, test"
   ]
  },
  {
   "cell_type": "code",
   "execution_count": 6,
   "metadata": {},
   "outputs": [
    {
     "name": "stdout",
     "output_type": "stream",
     "text": [
      "[train] 2017_1 : (386, 27), accumulate : (386, 27)\n",
      "[train] 2017_2 : (404, 27), accumulate : (790, 27)\n",
      "[train] 2017_3 : (414, 27), accumulate : (1204, 27)\n",
      "[train] 2017_4 : (425, 27), accumulate : (1629, 27)\n",
      "[train] 2018_1 : (439, 27), accumulate : (2068, 27)\n",
      "[train] 2018_2 : (448, 27), accumulate : (2516, 27)\n",
      "[train] 2018_3 : (444, 27), accumulate : (2960, 27)\n",
      "[train] 2018_4 : (447, 27), accumulate : (3407, 27)\n",
      "[test] 2019_1 : (413, 27), accumulate : (413, 27)\n",
      "[test] 2019_2 : (381, 27), accumulate : (794, 27)\n",
      "[test] 2019_3 : (405, 27), accumulate : (1199, 27)\n",
      "[test] 2019_4 : (430, 27), accumulate : (1629, 27)\n",
      "(3407, 27) (0, 0) (1629, 27)\n"
     ]
    }
   ],
   "source": [
    "trainfiles = ['2017_1', '2017_2', '2017_3', '2017_4', '2018_1', '2018_2', '2018_3', '2018_4']\n",
    "validatefiles = []\n",
    "testfiles = ['2019_1', '2019_2', '2019_3', '2019_4']\n",
    "#trainfiles = ['2017_1', '2018_1']\n",
    "#validatefiles = []\n",
    "#testfiles = ['2019_1']\n",
    "\n",
    "train, validate, test = my_prep.split_train_val_test_by_file(datas, trainfiles, validatefiles, testfiles, category='PC방')\n",
    "print(train.shape, validate.shape, test.shape)"
   ]
  },
  {
   "cell_type": "markdown",
   "metadata": {},
   "source": [
    "### split x, y"
   ]
  },
  {
   "cell_type": "code",
   "execution_count": 7,
   "metadata": {},
   "outputs": [
    {
     "name": "stdout",
     "output_type": "stream",
     "text": [
      "['연령대_10_유동인구_수', '연령대_20_유동인구_수', '연령대_30_유동인구_수', '연령대_40_유동인구_수', '연령대_50_유동인구_수', '연령대_60_이상_유동인구_수'] ['당월_매출_금액']\n"
     ]
    }
   ],
   "source": [
    "x_header = [x for x in train.columns if '연령대' in x and x.find('연령대')==0]\n",
    "y_header = ['당월_매출_금액']\n",
    "print(x_header, y_header)"
   ]
  },
  {
   "cell_type": "code",
   "execution_count": 8,
   "metadata": {},
   "outputs": [
    {
     "name": "stdout",
     "output_type": "stream",
     "text": [
      "train (3407, 6) (3407, 1)\n",
      "test (1629, 6) (1629, 1)\n"
     ]
    }
   ],
   "source": [
    "x_train, y_train = my_prep.split_xy(train, x_header, y_header)\n",
    "# x_validate, y_validate = my_prep.split_xy(validate, x_header, y_header)\n",
    "x_test, y_test = my_prep.split_xy(test, x_header, y_header)\n",
    "\n",
    "print('train', x_train.shape, y_train.shape)\n",
    "# print('validate', x_validate, y_validate)\n",
    "print('test', x_test.shape, y_test.shape)"
   ]
  },
  {
   "cell_type": "markdown",
   "metadata": {},
   "source": [
    "### for random split"
   ]
  },
  {
   "cell_type": "code",
   "execution_count": 9,
   "metadata": {},
   "outputs": [
    {
     "name": "stdout",
     "output_type": "stream",
     "text": [
      "train (5036, 6) (5036, 1)\n"
     ]
    }
   ],
   "source": [
    "x_train = np.concatenate((x_train, x_test))\n",
    "y_train = np.concatenate((y_train, y_test))\n",
    "print('train', x_train.shape, y_train.shape)"
   ]
  },
  {
   "cell_type": "code",
   "execution_count": 10,
   "metadata": {},
   "outputs": [
    {
     "name": "stdout",
     "output_type": "stream",
     "text": [
      "train (3525, 6) (3525, 1)\n",
      "test (1511, 6) (1511, 1)\n"
     ]
    }
   ],
   "source": [
    "from sklearn.model_selection import train_test_split\n",
    "x_train, x_test, y_train, y_test = train_test_split(x_train, y_train, test_size=0.3)\n",
    "print('train', x_train.shape, y_train.shape)\n",
    "print('test', x_test.shape, y_test.shape)"
   ]
  },
  {
   "cell_type": "markdown",
   "metadata": {},
   "source": [
    "# Normalize, Augmentation"
   ]
  },
  {
   "cell_type": "markdown",
   "metadata": {},
   "source": [
    "### Normalize"
   ]
  },
  {
   "cell_type": "code",
   "execution_count": 11,
   "metadata": {},
   "outputs": [
    {
     "name": "stdout",
     "output_type": "stream",
     "text": [
      "train (3525, 6) (3525, 1)\n",
      "test (1511, 6) (1511, 1)\n"
     ]
    }
   ],
   "source": [
    "from sklearn.preprocessing import MinMaxScaler, StandardScaler\n",
    "scaler = StandardScaler().fit(x_train)\n",
    "x_train_scale = scaler.transform(x_train)\n",
    "x_test_scale = scaler.transform(x_test)\n",
    "\n",
    "scaler_y = StandardScaler().fit(y_train)\n",
    "y_train_scale = scaler_y.transform(y_train)\n",
    "y_test_scale = scaler_y.transform(y_test)\n",
    "\n",
    "\n",
    "print('train', x_train_scale.shape, y_train_scale.shape)\n",
    "print('test', x_test_scale.shape, y_test_scale.shape)"
   ]
  },
  {
   "cell_type": "code",
   "execution_count": 12,
   "metadata": {},
   "outputs": [],
   "source": [
    "y_train_scale = y_train_scale.astype('float32')"
   ]
  },
  {
   "cell_type": "code",
   "execution_count": 138,
   "metadata": {},
   "outputs": [
    {
     "data": {
      "text/html": [
       "<div>\n",
       "<style scoped>\n",
       "    .dataframe tbody tr th:only-of-type {\n",
       "        vertical-align: middle;\n",
       "    }\n",
       "\n",
       "    .dataframe tbody tr th {\n",
       "        vertical-align: top;\n",
       "    }\n",
       "\n",
       "    .dataframe thead th {\n",
       "        text-align: right;\n",
       "    }\n",
       "</style>\n",
       "<table border=\"1\" class=\"dataframe\">\n",
       "  <thead>\n",
       "    <tr style=\"text-align: right;\">\n",
       "      <th></th>\n",
       "      <th>0</th>\n",
       "    </tr>\n",
       "  </thead>\n",
       "  <tbody>\n",
       "    <tr>\n",
       "      <th>count</th>\n",
       "      <td>1.511000e+03</td>\n",
       "    </tr>\n",
       "    <tr>\n",
       "      <th>mean</th>\n",
       "      <td>2.404421e+08</td>\n",
       "    </tr>\n",
       "    <tr>\n",
       "      <th>std</th>\n",
       "      <td>3.062908e+08</td>\n",
       "    </tr>\n",
       "    <tr>\n",
       "      <th>min</th>\n",
       "      <td>6.657300e+04</td>\n",
       "    </tr>\n",
       "    <tr>\n",
       "      <th>25%</th>\n",
       "      <td>6.622837e+07</td>\n",
       "    </tr>\n",
       "    <tr>\n",
       "      <th>50%</th>\n",
       "      <td>1.421743e+08</td>\n",
       "    </tr>\n",
       "    <tr>\n",
       "      <th>75%</th>\n",
       "      <td>2.926661e+08</td>\n",
       "    </tr>\n",
       "    <tr>\n",
       "      <th>max</th>\n",
       "      <td>3.804404e+09</td>\n",
       "    </tr>\n",
       "  </tbody>\n",
       "</table>\n",
       "</div>"
      ],
      "text/plain": [
       "                  0\n",
       "count  1.511000e+03\n",
       "mean   2.404421e+08\n",
       "std    3.062908e+08\n",
       "min    6.657300e+04\n",
       "25%    6.622837e+07\n",
       "50%    1.421743e+08\n",
       "75%    2.926661e+08\n",
       "max    3.804404e+09"
      ]
     },
     "execution_count": 138,
     "metadata": {},
     "output_type": "execute_result"
    }
   ],
   "source": [
    "pd.DataFrame(y_test).describe()"
   ]
  },
  {
   "cell_type": "code",
   "execution_count": 13,
   "metadata": {},
   "outputs": [
    {
     "data": {
      "text/html": [
       "<div>\n",
       "<style scoped>\n",
       "    .dataframe tbody tr th:only-of-type {\n",
       "        vertical-align: middle;\n",
       "    }\n",
       "\n",
       "    .dataframe tbody tr th {\n",
       "        vertical-align: top;\n",
       "    }\n",
       "\n",
       "    .dataframe thead th {\n",
       "        text-align: right;\n",
       "    }\n",
       "</style>\n",
       "<table border=\"1\" class=\"dataframe\">\n",
       "  <thead>\n",
       "    <tr style=\"text-align: right;\">\n",
       "      <th></th>\n",
       "      <th>0</th>\n",
       "    </tr>\n",
       "  </thead>\n",
       "  <tbody>\n",
       "    <tr>\n",
       "      <th>count</th>\n",
       "      <td>3.525000e+03</td>\n",
       "    </tr>\n",
       "    <tr>\n",
       "      <th>mean</th>\n",
       "      <td>4.142734e-09</td>\n",
       "    </tr>\n",
       "    <tr>\n",
       "      <th>std</th>\n",
       "      <td>1.000141e+00</td>\n",
       "    </tr>\n",
       "    <tr>\n",
       "      <th>min</th>\n",
       "      <td>-7.256324e-01</td>\n",
       "    </tr>\n",
       "    <tr>\n",
       "      <th>25%</th>\n",
       "      <td>-5.532487e-01</td>\n",
       "    </tr>\n",
       "    <tr>\n",
       "      <th>50%</th>\n",
       "      <td>-3.390451e-01</td>\n",
       "    </tr>\n",
       "    <tr>\n",
       "      <th>75%</th>\n",
       "      <td>1.524475e-01</td>\n",
       "    </tr>\n",
       "    <tr>\n",
       "      <th>max</th>\n",
       "      <td>9.980984e+00</td>\n",
       "    </tr>\n",
       "  </tbody>\n",
       "</table>\n",
       "</div>"
      ],
      "text/plain": [
       "                  0\n",
       "count  3.525000e+03\n",
       "mean   4.142734e-09\n",
       "std    1.000141e+00\n",
       "min   -7.256324e-01\n",
       "25%   -5.532487e-01\n",
       "50%   -3.390451e-01\n",
       "75%    1.524475e-01\n",
       "max    9.980984e+00"
      ]
     },
     "execution_count": 13,
     "metadata": {},
     "output_type": "execute_result"
    }
   ],
   "source": [
    "tmp = pd.DataFrame(y_train_scale)\n",
    "tmp.describe()"
   ]
  },
  {
   "cell_type": "markdown",
   "metadata": {},
   "source": [
    "### Agumentation"
   ]
  },
  {
   "cell_type": "code",
   "execution_count": 14,
   "metadata": {
    "collapsed": true,
    "jupyter": {
     "outputs_hidden": true
    }
   },
   "outputs": [
    {
     "ename": "ValueError",
     "evalue": "Unknown label type: 'continuous'",
     "output_type": "error",
     "traceback": [
      "\u001b[1;31m---------------------------------------------------------------------------\u001b[0m",
      "\u001b[1;31mValueError\u001b[0m                                Traceback (most recent call last)",
      "\u001b[1;32m<ipython-input-14-298438a51601>\u001b[0m in \u001b[0;36m<module>\u001b[1;34m\u001b[0m\n\u001b[0;32m      1\u001b[0m \u001b[1;32mfrom\u001b[0m \u001b[0mimblearn\u001b[0m\u001b[1;33m.\u001b[0m\u001b[0mover_sampling\u001b[0m \u001b[1;32mimport\u001b[0m \u001b[0mSMOTE\u001b[0m\u001b[1;33m\u001b[0m\u001b[1;33m\u001b[0m\u001b[0m\n\u001b[0;32m      2\u001b[0m \u001b[0msmote\u001b[0m \u001b[1;33m=\u001b[0m \u001b[0mSMOTE\u001b[0m\u001b[1;33m(\u001b[0m\u001b[0mrandom_state\u001b[0m\u001b[1;33m=\u001b[0m\u001b[1;36m0\u001b[0m\u001b[1;33m)\u001b[0m\u001b[1;33m\u001b[0m\u001b[1;33m\u001b[0m\u001b[0m\n\u001b[1;32m----> 3\u001b[1;33m \u001b[0mx_train_over\u001b[0m\u001b[1;33m,\u001b[0m\u001b[0my_train_over\u001b[0m \u001b[1;33m=\u001b[0m \u001b[0msmote\u001b[0m\u001b[1;33m.\u001b[0m\u001b[0mfit_sample\u001b[0m\u001b[1;33m(\u001b[0m\u001b[0mx_train_scale\u001b[0m\u001b[1;33m,\u001b[0m \u001b[0my_train_scale\u001b[0m\u001b[1;33m)\u001b[0m\u001b[1;33m\u001b[0m\u001b[1;33m\u001b[0m\u001b[0m\n\u001b[0m\u001b[0;32m      4\u001b[0m \u001b[1;33m\u001b[0m\u001b[0m\n\u001b[0;32m      5\u001b[0m \u001b[0mprint\u001b[0m\u001b[1;33m(\u001b[0m\u001b[1;34m'SMOTE 적용 전 학습용 피처/레이블 데이터 세트: '\u001b[0m\u001b[1;33m,\u001b[0m \u001b[0mx_train\u001b[0m\u001b[1;33m.\u001b[0m\u001b[0mshape\u001b[0m\u001b[1;33m,\u001b[0m \u001b[0my_train\u001b[0m\u001b[1;33m.\u001b[0m\u001b[0mshape\u001b[0m\u001b[1;33m)\u001b[0m\u001b[1;33m\u001b[0m\u001b[1;33m\u001b[0m\u001b[0m\n",
      "\u001b[1;32m~\\anaconda3\\lib\\site-packages\\imblearn\\base.py\u001b[0m in \u001b[0;36mfit_resample\u001b[1;34m(self, X, y)\u001b[0m\n\u001b[0;32m     73\u001b[0m             \u001b[0mThe\u001b[0m \u001b[0mcorresponding\u001b[0m \u001b[0mlabel\u001b[0m \u001b[0mof\u001b[0m\u001b[0;31m \u001b[0m\u001b[0;31m`\u001b[0m\u001b[0mX_resampled\u001b[0m\u001b[0;31m`\u001b[0m\u001b[1;33m.\u001b[0m\u001b[1;33m\u001b[0m\u001b[1;33m\u001b[0m\u001b[0m\n\u001b[0;32m     74\u001b[0m         \"\"\"\n\u001b[1;32m---> 75\u001b[1;33m         \u001b[0mcheck_classification_targets\u001b[0m\u001b[1;33m(\u001b[0m\u001b[0my\u001b[0m\u001b[1;33m)\u001b[0m\u001b[1;33m\u001b[0m\u001b[1;33m\u001b[0m\u001b[0m\n\u001b[0m\u001b[0;32m     76\u001b[0m         \u001b[0marrays_transformer\u001b[0m \u001b[1;33m=\u001b[0m \u001b[0mArraysTransformer\u001b[0m\u001b[1;33m(\u001b[0m\u001b[0mX\u001b[0m\u001b[1;33m,\u001b[0m \u001b[0my\u001b[0m\u001b[1;33m)\u001b[0m\u001b[1;33m\u001b[0m\u001b[1;33m\u001b[0m\u001b[0m\n\u001b[0;32m     77\u001b[0m         \u001b[0mX\u001b[0m\u001b[1;33m,\u001b[0m \u001b[0my\u001b[0m\u001b[1;33m,\u001b[0m \u001b[0mbinarize_y\u001b[0m \u001b[1;33m=\u001b[0m \u001b[0mself\u001b[0m\u001b[1;33m.\u001b[0m\u001b[0m_check_X_y\u001b[0m\u001b[1;33m(\u001b[0m\u001b[0mX\u001b[0m\u001b[1;33m,\u001b[0m \u001b[0my\u001b[0m\u001b[1;33m)\u001b[0m\u001b[1;33m\u001b[0m\u001b[1;33m\u001b[0m\u001b[0m\n",
      "\u001b[1;32m~\\anaconda3\\lib\\site-packages\\sklearn\\utils\\multiclass.py\u001b[0m in \u001b[0;36mcheck_classification_targets\u001b[1;34m(y)\u001b[0m\n\u001b[0;32m    167\u001b[0m     if y_type not in ['binary', 'multiclass', 'multiclass-multioutput',\n\u001b[0;32m    168\u001b[0m                       'multilabel-indicator', 'multilabel-sequences']:\n\u001b[1;32m--> 169\u001b[1;33m         \u001b[1;32mraise\u001b[0m \u001b[0mValueError\u001b[0m\u001b[1;33m(\u001b[0m\u001b[1;34m\"Unknown label type: %r\"\u001b[0m \u001b[1;33m%\u001b[0m \u001b[0my_type\u001b[0m\u001b[1;33m)\u001b[0m\u001b[1;33m\u001b[0m\u001b[1;33m\u001b[0m\u001b[0m\n\u001b[0m\u001b[0;32m    170\u001b[0m \u001b[1;33m\u001b[0m\u001b[0m\n\u001b[0;32m    171\u001b[0m \u001b[1;33m\u001b[0m\u001b[0m\n",
      "\u001b[1;31mValueError\u001b[0m: Unknown label type: 'continuous'"
     ]
    }
   ],
   "source": [
    "from imblearn.over_sampling import SMOTE\n",
    "smote = SMOTE(random_state=0)\n",
    "x_train_over,y_train_over = smote.fit_sample(x_train_scale, y_train_scale)\n",
    "\n",
    "print('SMOTE 적용 전 학습용 피처/레이블 데이터 세트: ', x_train.shape, y_train.shape)\n",
    "print('SMOTE 적용 후 학습용 피처/레이블 데이터 세트: ', x_train_over.shape, y_train_over.shape)\n",
    "print('SMOTE 적용 후 레이블 값 분포: \\n', pd.Series(y_train_over).value_counts())"
   ]
  },
  {
   "cell_type": "markdown",
   "metadata": {},
   "source": [
    "### Correlation coefficient"
   ]
  },
  {
   "cell_type": "code",
   "execution_count": 15,
   "metadata": {},
   "outputs": [
    {
     "data": {
      "image/png": "[encoded data removed]",
      "text/plain": [
       "<Figure size 360x360 with 2 Axes>"
      ]
     },
     "metadata": {
      "needs_background": "light"
     },
     "output_type": "display_data"
    }
   ],
   "source": [
    "my_eval.visualize_CorrelCoeff_heatmap(x_train_scale, x_header, figsize=(5, 5))"
   ]
  },
  {
   "cell_type": "markdown",
   "metadata": {},
   "source": [
    "# Training"
   ]
  },
  {
   "cell_type": "code",
   "execution_count": 52,
   "metadata": {},
   "outputs": [],
   "source": [
    "hidden_layers = [512, 256, 4]"
   ]
  },
  {
   "cell_type": "code",
   "execution_count": 53,
   "metadata": {},
   "outputs": [],
   "source": [
    "model_LR = my_reg.get_model_LinearRegression(x_train_scale, y_train_scale)\n",
    "model_Elastic = my_reg.get_model_ElasticNet(x_train_scale, y_train_scale)\n",
    "model_SVR = my_reg.get_model_SVR(x_train_scale, y_train_scale)\n",
    "model_MLPRegression = my_reg.get_model_MLPRegression(\n",
    "    x_train_scale, y_train_scale, \n",
    "    hidden_layers=hidden_layers,\n",
    "    max_iter=5000,\n",
    "    alpha=0.0001,\n",
    "    random_state=42\n",
    ")"
   ]
  },
  {
   "cell_type": "code",
   "execution_count": 34,
   "metadata": {},
   "outputs": [
    {
     "data": {
      "text/plain": [
       "array([[ 0.26032935,  0.03793485,  0.55855321, -0.97658412,  0.51470345,\n",
       "        -0.14316204]])"
      ]
     },
     "execution_count": 34,
     "metadata": {},
     "output_type": "execute_result"
    }
   ],
   "source": [
    "model_LR.coef_"
   ]
  },
  {
   "cell_type": "markdown",
   "metadata": {},
   "source": [
    "# Evaluate"
   ]
  },
  {
   "cell_type": "markdown",
   "metadata": {},
   "source": [
    "### Linear Regression"
   ]
  },
  {
   "cell_type": "code",
   "execution_count": 57,
   "metadata": {},
   "outputs": [
    {
     "name": "stdout",
     "output_type": "stream",
     "text": [
      "------- evaluate Linear Regression -------\n",
      "RMSE : 0.837576\n",
      "R2 : 0.063183\n",
      "----------------------------\n"
     ]
    },
    {
     "data": {
      "image/png": "[encoded data removed]",
      "text/plain": [
       "<Figure size 432x288 with 1 Axes>"
      ]
     },
     "metadata": {
      "needs_background": "light"
     },
     "output_type": "display_data"
    }
   ],
   "source": [
    "my_eval.eval_regression(y_test_scale, model_LR.predict(x_test_scale), model_name='Linear Regression')"
   ]
  },
  {
   "cell_type": "markdown",
   "metadata": {},
   "source": [
    "### ElasticNet"
   ]
  },
  {
   "cell_type": "code",
   "execution_count": 94,
   "metadata": {},
   "outputs": [
    {
     "name": "stdout",
     "output_type": "stream",
     "text": [
      "------- evaluate ElasticNet -------\n",
      "RMSE : 0.866593\n",
      "R2 : -0.002851\n",
      "----------------------------\n"
     ]
    },
    {
     "data": {
      "image/png": "[encoded data removed]",
      "text/plain": [
       "<Figure size 432x288 with 1 Axes>"
      ]
     },
     "metadata": {
      "needs_background": "light"
     },
     "output_type": "display_data"
    }
   ],
   "source": [
    "my_eval.eval_regression(y_test_scale, model_Elastic.predict(x_test_scale), model_name='ElasticNet')"
   ]
  },
  {
   "cell_type": "markdown",
   "metadata": {},
   "source": [
    "### SVR"
   ]
  },
  {
   "cell_type": "code",
   "execution_count": 55,
   "metadata": {},
   "outputs": [
    {
     "name": "stdout",
     "output_type": "stream",
     "text": [
      "------- evaluate SVM Regression -------\n",
      "RMSE : 389312717.177208\n",
      "R2 : -0.616653\n",
      "----------------------------\n"
     ]
    },
    {
     "data": {
      "image/png": "[encoded data removed]",
      "text/plain": [
       "<Figure size 432x288 with 1 Axes>"
      ]
     },
     "metadata": {
      "needs_background": "light"
     },
     "output_type": "display_data"
    }
   ],
   "source": [
    "my_eval.eval_regression(y_test, model_SVR.predict(x_test_scale), model_name='SVM Regression')"
   ]
  },
  {
   "cell_type": "markdown",
   "metadata": {},
   "source": [
    "# MLP Regressoin"
   ]
  },
  {
   "cell_type": "code",
   "execution_count": 54,
   "metadata": {},
   "outputs": [
    {
     "name": "stdout",
     "output_type": "stream",
     "text": [
      "------- evaluate MLP Regression -------\n",
      "RMSE : 0.699499\n",
      "R2 : 0.346597\n",
      "----------------------------\n"
     ]
    },
    {
     "data": {
      "image/png": "[encoded data removed]",
      "text/plain": [
       "<Figure size 432x288 with 1 Axes>"
      ]
     },
     "metadata": {
      "needs_background": "light"
     },
     "output_type": "display_data"
    }
   ],
   "source": [
    "my_eval.eval_regression(y_test_scale, model_MLPRegression.predict(x_test_scale), model_name='MLP Regression')"
   ]
  },
  {
   "cell_type": "markdown",
   "metadata": {},
   "source": [
    "# 오차 계산"
   ]
  },
  {
   "cell_type": "code",
   "execution_count": 226,
   "metadata": {},
   "outputs": [],
   "source": [
    "def evaluate_error(y_gt, y_pred, title=''):\n",
    "    li_error = []\n",
    "    for i in zip(y_gt, y_pred):\n",
    "        error = (abs(i[0]-i[1])/i[0])\n",
    "        li_error.append(error)\n",
    "\n",
    "    print(sum(li_error), y_pred.shape[0])\n",
    "    print('평균 오차 %.lf%%' %(np.mean(li_error)))\n",
    "    print('최대 오차 %.lf%%' %(np.max(li_error)))\n",
    "    print('최소 오차 %.lf%%' %(np.min(li_error)))\n",
    "\n",
    "    #li_error.sort(reverse=True)\n",
    "    #print('Top 10 오차 %s' %(li_error[:10]))\n",
    "    plt.plot(li_error)\n",
    "    plt.title(title)"
   ]
  },
  {
   "cell_type": "code",
   "execution_count": 227,
   "metadata": {},
   "outputs": [
    {
     "name": "stdout",
     "output_type": "stream",
     "text": [
      "12021.20094452203 1511\n",
      "평균 오차 8%\n",
      "최대 오차 2462%\n",
      "최소 오차 0%\n"
     ]
    },
    {
     "data": {
      "image/png": "[encoded data removed]",
      "text/plain": [
       "<Figure size 432x288 with 1 Axes>"
      ]
     },
     "metadata": {
      "needs_background": "light"
     },
     "output_type": "display_data"
    }
   ],
   "source": [
    "y_pred_scale_MLP = model_MLPRegression.predict(x_test_scale)\n",
    "y_pred_MLP = scaler_y.inverse_transform(y_pred_scale)\n",
    "\n",
    "evaluate_error(y_test[:, 0], y_pred_MLP, title='MLP error')"
   ]
  },
  {
   "cell_type": "code",
   "execution_count": 228,
   "metadata": {},
   "outputs": [
    {
     "name": "stdout",
     "output_type": "stream",
     "text": [
      "[13208.68056589] 1511\n",
      "평균 오차 9%\n",
      "최대 오차 2961%\n",
      "최소 오차 0%\n"
     ]
    },
    {
     "data": {
      "image/png": "[encoded data removed]",
      "text/plain": [
       "<Figure size 432x288 with 1 Axes>"
      ]
     },
     "metadata": {
      "needs_background": "light"
     },
     "output_type": "display_data"
    }
   ],
   "source": [
    "y_pred_scale_LR = model_LR.predict(x_test_scale)\n",
    "y_pred_LR = scaler_y.inverse_transform(y_pred_scale_LR)\n",
    "\n",
    "evaluate_error(y_test[:, 0], y_pred_LR, title=\"LR error\")"
   ]
  },
  {
   "cell_type": "code",
   "execution_count": 229,
   "metadata": {},
   "outputs": [
    {
     "name": "stdout",
     "output_type": "stream",
     "text": [
      "15123.83836161175 1511\n",
      "평균 오차 10%\n",
      "최대 오차 3856%\n",
      "최소 오차 0%\n"
     ]
    },
    {
     "data": {
      "image/png": "[encoded data removed]",
      "text/plain": [
       "<Figure size 432x288 with 1 Axes>"
      ]
     },
     "metadata": {
      "needs_background": "light"
     },
     "output_type": "display_data"
    }
   ],
   "source": [
    "y_pred_scale_Elastic = model_Elastic.predict(x_test_scale)\n",
    "y_pred_Elastic = scaler_y.inverse_transform(y_pred_scale_Elastic)\n",
    "\n",
    "evaluate_error(y_test[:, 0], y_pred_Elastic, title='Elastic error')"
   ]
  },
  {
   "cell_type": "markdown",
   "metadata": {},
   "source": [
    "# Conclusion"
   ]
  },
  {
   "cell_type": "markdown",
   "metadata": {},
   "source": [
    "##### 정답 값이 너무 비슷? 몇명만 너무 큼? \n",
    "##### 큰 의미가 없나?"
   ]
  },
  {
   "cell_type": "code",
   "execution_count": 171,
   "metadata": {},
   "outputs": [
    {
     "data": {
      "text/plain": [
       "[<matplotlib.lines.Line2D at 0x1d858835f48>]"
      ]
     },
     "execution_count": 171,
     "metadata": {},
     "output_type": "execute_result"
    },
    {
     "data": {
      "image/png": "[encoded data removed]",
      "text/plain": [
       "<Figure size 432x288 with 1 Axes>"
      ]
     },
     "metadata": {
      "needs_background": "light"
     },
     "output_type": "display_data"
    }
   ],
   "source": [
    "plt.plot(y_test)"
   ]
  },
  {
   "cell_type": "code",
   "execution_count": 119,
   "metadata": {},
   "outputs": [
    {
     "name": "stdout",
     "output_type": "stream",
     "text": [
      "[-0.02651767 -0.03907123  0.03114991 -0.27361346 -0.1131293 ]\n",
      "[-0.06412931  0.00051656 -0.1101147  -0.13817856  0.03263004]\n",
      "[4.09963574e-10 4.09963574e-10 4.09963574e-10 4.09963574e-10\n",
      " 4.09963574e-10]\n"
     ]
    }
   ],
   "source": [
    "print(y_pred_scale[:5])\n",
    "print(y_pred_scale_LR[:5, 0])\n",
    "print(y_pred_scale_Elastic[:5])"
   ]
  },
  {
   "cell_type": "code",
   "execution_count": 134,
   "metadata": {},
   "outputs": [
    {
     "name": "stdout",
     "output_type": "stream",
     "text": [
      "MLP 247409275\n",
      "LR 234101186\n",
      "Elastic 256791996\n",
      "ground truth 225177232\n"
     ]
    }
   ],
   "source": [
    "print('MLP', int(scaler_y.inverse_transform([-0.02651767])))\n",
    "print('LR', int(scaler_y.inverse_transform([-0.06412931])))\n",
    "#print('SVR', int(scaler_y.inverse_transform([-0.02651767])))\n",
    "print('Elastic', int(scaler_y.inverse_transform([4.09963574e-10])))    #\n",
    "print('ground truth', y_test[0, 0])"
   ]
  },
  {
   "cell_type": "code",
   "execution_count": null,
   "metadata": {},
   "outputs": [],
   "source": [
    "plt.plot"
   ]
  },
  {
   "cell_type": "markdown",
   "metadata": {},
   "source": [
    "# TODO"
   ]
  },
  {
   "cell_type": "markdown",
   "metadata": {},
   "source": [
    "###### 회귀 데이터 증분?\n",
    "###### 학습/검증 다르게 분할. 시계열\n",
    "###### LBGM\n",
    "###### MLP in kears, pytorch"
   ]
  }
 ],
 "metadata": {
  "kernelspec": {
   "display_name": "Python 3",
   "language": "python",
   "name": "python3"
  },
  "language_info": {
   "codemirror_mode": {
    "name": "ipython",
    "version": 3
   },
   "file_extension": ".py",
   "mimetype": "text/x-python",
   "name": "python",
   "nbconvert_exporter": "python",
   "pygments_lexer": "ipython3",
   "version": "3.7.6"
  }
 },
 "nbformat": 4,
 "nbformat_minor": 4
}
